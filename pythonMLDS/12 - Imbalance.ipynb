{
 "cells": [
  {
   "cell_type": "markdown",
   "metadata": {},
   "source": [
    "# Imbalanced classes\n",
    "\n",
    "## The problem of inbalance\n",
    "Imbalance in classification problem is a fairly common issue. We meet this problem in many fields, for example:\n",
    "* Credit defaults\n",
    "* Churn analysis\n",
    "* Fraud detection\n",
    "* Advertising campaigns\n",
    "* Spam filtering\n",
    "\n",
    "Working with imbalanced classes can be very problematic for several reasons:\n",
    "* Interpretation of metrics. A typical example is a dataset for binary classification in which we have balance 99:1. In this case it is very easy to get “good results” for most metrics (Accuarcy/AUC/etc). One must take the balance of the dataset into consideration when interpretating metrics.\n",
    "* Effect of imbalance on the loss function. When we train our model on the complete, imbalanced dataset this affects the loss function and therefore the optimizer and the resulting estimator as well. Strong imbalance may lead to disregarding the minority class by an optimizer as it will almost always get more gains in terms of the loss function by “focusing on the majority class” then on the minority class.\n",
    "\n",
    "\n",
    "## Working with imbalanced dataset\n",
    "One can say that the only way to fight imbalance is ... changing the balance. In general there are three ways to do this and fight the problem of imbalance. \n",
    "* Undersampling\n",
    "* Oversampling\n",
    "* Modification of the opitmizer/loss function\n",
    "Each of the above results in re-weighting of the classes. Either on the level of data or on the level of optimizer/loss function. The general idea however is the same.\n",
    "\n",
    "### Undersampling\n",
    "One way the make the problem more balanced is to remove some of the observations in the majority class. The question is, which observations should be removed? We can do it in many ways. Three most common are:\n",
    "* Undersample clusters of majority class\n",
    "* Remove observations from majority class that are “near” the minority class / decision boundry.\n",
    "* Undersample the majority class by removing the observations that are “easy” to predict.\n",
    "\n",
    "#### Unersampling with Cluster-Centroids\n",
    "In this approach we will use k-NN to find small clusters of observations in majority class. Later we will remove all the observations but the centroid from all the clusters. We set the number of  clusters so that it is equal to the number of observations that we want to keep in the majority class.\n",
    "\n",
    "#### Tomek link \n",
    "In Tomek link observations from majority class are iteratively removed until all minimally distanced pairs of observations are in the same class. In this approach if there are observations from majority class that are “near” observations from minority class we remove them to “give more wieght” to this part of space to minority class.\n",
    "\n",
    "#### Iterative undersampling\n",
    "Most algorithms output probibilites and not just predictions.  When we analyze ROC we see that usually there are some observations that are “easy” to predict. Very often we can correctly predict large share of observations from majority class without any false positives and negatives. We can iteratively undersample by removing these parts of observations in majority class that are get the highest probabilities.\n",
    "\n",
    "\n",
    "### Oversampling\n",
    "Oversampling works be creating additional, synthetic observations in minority class.\n",
    "* Random sampling\n",
    "* SMOTE -  Synthetic Minority Oversampling Technique\n",
    "* ADASYN - Adaptive Synthetic\n",
    "\n",
    "#### Random sampling\n",
    "There are many variants of random over sampling. The simplest possible way is to randomly draw observations from minority class (with replacement) and duplicate drawn observations. We can modify/extend this method by adding some noise to features (based on their distribution) to duplicated observations.\n",
    "\n",
    "#### SMOTE\n",
    "The general idea behind smote is to create new synthetic observations that are linear combinations of nearest neighbours of pair of observations in the minority class. There are many variants and specific implementation, but the general idea stays the same. This way of oversampling forces the estimator  to be more general around the minority class.\n",
    "\n",
    "\n",
    "#### ADASYN\n",
    "ADASYN is, in a way, an extension of SMOTE. In this approach we try to create more synthetic examples for those observations in minority class that are “harder” to predict. In the first stage we run simple k-NN classifier for every observation in minority class and create new, synthetic observations based on the predicted probability. More synthetic observations are created when the probability of correct prediction is lower.\n",
    "\n",
    "\n",
    "### Summary\n",
    "* Over/undersampling usually doesn't work. No technique can create additional \"true\" information in the dataset out of thin air.\n",
    "* Different solutions for under/oversampling may work with different datasets and algorithms.\n",
    "* Proper CV is extremly important in imbalance problem as it is prone to leakage.\n",
    "* When working with imbalanced dataset, a model with worse result in regular metric (for example AUC) can be actualy better from the business point of view. This may be the case, for example, when the \"real\" cost function is asymmetric.\n",
    "* There are many ways to under and oversample. Methods mentioned above are well known examples. [see here](https://github.com/scikit-learn-contrib/imbalanced-learn/blob/master/README.rst#about)"
   ]
  },
  {
   "cell_type": "code",
   "execution_count": 1,
   "metadata": {},
   "outputs": [
    {
     "name": "stderr",
     "output_type": "stream",
     "text": [
      "/home/wilam/.local/lib/python3.6/site-packages/statsmodels/compat/pandas.py:56: FutureWarning: The pandas.core.datetools module is deprecated and will be removed in a future version. Please use the pandas.tseries module instead.\n",
      "  from pandas.core import datetools\n"
     ]
    }
   ],
   "source": [
    "import pandas as pd\n",
    "import numpy as np\n",
    "import pickle\n",
    "import statsmodels.api as sm\n",
    "\n",
    "import matplotlib.pyplot as plt\n",
    "plt.style.use('seaborn-ticks')\n",
    "%matplotlib inline\n",
    "\n",
    "import gc"
   ]
  },
  {
   "cell_type": "markdown",
   "metadata": {},
   "source": [
    "We will work with german credit scroe dataset. The class is imbalanced 7:3 in the original dataset."
   ]
  },
  {
   "cell_type": "code",
   "execution_count": 2,
   "metadata": {},
   "outputs": [
    {
     "name": "stdout",
     "output_type": "stream",
     "text": [
      "['v1', 'v2', 'v3', 'v4', 'v5', 'v6', 'v7', 'v8', 'v9', 'v10', 'v11', 'v12', 'v13', 'v14', 'v15', 'v16', 'v17', 'v18', 'v19', 'v20', 'v21', 'v22', 'v23', 'v24', 'target']\n"
     ]
    }
   ],
   "source": [
    "german = pd.read_csv('data/german1.csv', delimiter=',', low_memory=False)\n",
    "german[\"target\"]=german[\"target\"]-1\n",
    "german.head()\n",
    "features = german.columns.tolist()\n",
    "print(features)\n",
    "features.remove('target')\n",
    "german[features] = german[features].apply(lambda x: (x-x.mean())/x.std())"
   ]
  },
  {
   "cell_type": "markdown",
   "metadata": {},
   "source": [
    "We start by splitting the complete dataset into training and valdiation sets."
   ]
  },
  {
   "cell_type": "code",
   "execution_count": 3,
   "metadata": {
    "collapsed": true
   },
   "outputs": [],
   "source": [
    "from sklearn.model_selection import train_test_split\n",
    "test_size = 0.3\n",
    "gTrain, gValid = train_test_split(german, test_size=test_size, random_state=2017, stratify=german[\"target\"].values)"
   ]
  },
  {
   "cell_type": "code",
   "execution_count": 4,
   "metadata": {},
   "outputs": [
    {
     "name": "stdout",
     "output_type": "stream",
     "text": [
      "0    490\n",
      "1    210\n",
      "Name: target, dtype: int64\n",
      "0    210\n",
      "1     90\n",
      "Name: target, dtype: int64\n"
     ]
    }
   ],
   "source": [
    "print(gTrain.target.value_counts())\n",
    "print(gValid.target.value_counts())"
   ]
  },
  {
   "cell_type": "markdown",
   "metadata": {},
   "source": [
    "### Dataset preparation\n",
    "Now we will prepare two more datasets with stronger imbalance by removing some of target variables equal to 1. We do this to both training and validation datasets.\n",
    "\n",
    "**WARNING!** The number of observation with target==1 for imbalanced datasets is very small. We should run the notebook several times to check the stability of results."
   ]
  },
  {
   "cell_type": "code",
   "execution_count": 5,
   "metadata": {
    "collapsed": true
   },
   "outputs": [],
   "source": [
    "trainIndex1 = list(gTrain.query(\"target==1\").index.values)\n",
    "validIndex1 = list(gValid.query(\"target==1\").index.values)\n",
    "from random import shuffle\n",
    "shuffle(trainIndex1)\n",
    "shuffle(validIndex1)"
   ]
  },
  {
   "cell_type": "code",
   "execution_count": 6,
   "metadata": {
    "collapsed": true
   },
   "outputs": [],
   "source": [
    "gTrain10 = gTrain.drop(trainIndex1[0:140])\n",
    "gTrain20 = gTrain.drop(trainIndex1[0:70])\n",
    "gValid10 = gValid.drop(validIndex1[0:60])\n",
    "gValid20 = gValid.drop(validIndex1[0:30])"
   ]
  },
  {
   "cell_type": "code",
   "execution_count": 7,
   "metadata": {},
   "outputs": [
    {
     "name": "stdout",
     "output_type": "stream",
     "text": [
      "0    490\n",
      "1    140\n",
      "Name: target, dtype: int64\n",
      "0    210\n",
      "1     60\n",
      "Name: target, dtype: int64\n",
      "0    490\n",
      "1     70\n",
      "Name: target, dtype: int64\n",
      "0    210\n",
      "1     30\n",
      "Name: target, dtype: int64\n"
     ]
    }
   ],
   "source": [
    "print(gTrain20.target.value_counts())\n",
    "print(gValid20.target.value_counts())\n",
    "\n",
    "print(gTrain10.target.value_counts())\n",
    "print(gValid10.target.value_counts())"
   ]
  },
  {
   "cell_type": "markdown",
   "metadata": {},
   "source": [
    "### Benchmarks\n",
    "First lets run the benchmark for simple logistic regression with any under/oversampling. For reference point lets plot the ROC for one of the sets."
   ]
  },
  {
   "cell_type": "code",
   "execution_count": 8,
   "metadata": {},
   "outputs": [
    {
     "name": "stdout",
     "output_type": "stream",
     "text": [
      "Train AUC: 0.8289698736637513 Valid AUC: 0.7794708994708995\n"
     ]
    }
   ],
   "source": [
    "from sklearn import metrics\n",
    "mod = sm.GLM.from_formula(formula=\"target ~ \" + \"+\".join(features), data=gTrain, family=sm.families.Binomial())\n",
    "res = mod.fit()\n",
    "predsTrain = res.predict()\n",
    "preds = res.predict(gValid)\n",
    "print(\"Train AUC:\", metrics.roc_auc_score(gTrain.target, predsTrain),\n",
    "      \"Valid AUC:\", metrics.roc_auc_score(gValid.target, preds))"
   ]
  },
  {
   "cell_type": "code",
   "execution_count": 9,
   "metadata": {},
   "outputs": [
    {
     "name": "stdout",
     "output_type": "stream",
     "text": [
      "Train AUC: 0.8419679300291546 Valid AUC: 0.7798412698412699\n"
     ]
    }
   ],
   "source": [
    "mod = sm.GLM.from_formula(formula=\"target ~ \" + \"+\".join(features), data=gTrain20, family=sm.families.Binomial())\n",
    "res = mod.fit()\n",
    "predsTrain = res.predict()\n",
    "preds = res.predict(gValid20)\n",
    "print(\"Train AUC:\", metrics.roc_auc_score(gTrain20.target, predsTrain),\n",
    "      \"Valid AUC:\", metrics.roc_auc_score(gValid20.target, preds))"
   ]
  },
  {
   "cell_type": "code",
   "execution_count": 10,
   "metadata": {},
   "outputs": [
    {
     "data": {
      "image/png": "[encoded data removed]",
      "text/plain": [
       "<matplotlib.figure.Figure at 0x7ffab1701eb8>"
      ]
     },
     "metadata": {},
     "output_type": "display_data"
    }
   ],
   "source": [
    "from sklearn.metrics import roc_curve\n",
    "fprNS, tprNS, _ = roc_curve(gValid20.target, preds)\n",
    "plt.figure()\n",
    "lw = 2\n",
    "plt.plot(fprNS, tprNS, color='darkorange',\n",
    "         lw=lw, label='ROC curve')\n",
    "plt.plot([0, 1], [0, 1], color='navy', lw=lw, linestyle='--')\n",
    "plt.xlim([0.0, 1.0])\n",
    "plt.ylim([0.0, 1.05])\n",
    "plt.xlabel('False Positive Rate')\n",
    "plt.ylabel('True Positive Rate')\n",
    "plt.title('Receiver operating characteristic example')\n",
    "plt.legend(loc=\"lower right\")\n",
    "plt.show()"
   ]
  },
  {
   "cell_type": "code",
   "execution_count": 11,
   "metadata": {},
   "outputs": [
    {
     "name": "stdout",
     "output_type": "stream",
     "text": [
      "Train AUC: 0.8414577259475218 Valid AUC: 0.7004761904761905\n"
     ]
    }
   ],
   "source": [
    "mod = sm.GLM.from_formula(formula=\"target ~ \" + \"+\".join(features), data=gTrain10, family=sm.families.Binomial())\n",
    "res = mod.fit()\n",
    "predsTrain = res.predict()\n",
    "preds = res.predict(gValid10)\n",
    "print(\"Train AUC:\", metrics.roc_auc_score(gTrain10.target, predsTrain),\n",
    "      \"Valid AUC:\", metrics.roc_auc_score(gValid10.target, preds))"
   ]
  },
  {
   "cell_type": "code",
   "execution_count": 12,
   "metadata": {},
   "outputs": [
    {
     "data": {
      "image/png": "[encoded data removed]",
      "text/plain": [
       "<matplotlib.figure.Figure at 0x7ffab14a7eb8>"
      ]
     },
     "metadata": {},
     "output_type": "display_data"
    }
   ],
   "source": [
    "from sklearn.metrics import roc_curve\n",
    "fprNS2, tprNS2, _ = roc_curve(gValid10.target, preds)\n",
    "plt.figure()\n",
    "lw = 2\n",
    "plt.plot(fprNS2, tprNS2, color='darkorange',\n",
    "         lw=lw, label='ROC curve')\n",
    "plt.plot([0, 1], [0, 1], color='navy', lw=lw, linestyle='--')\n",
    "plt.xlim([0.0, 1.0])\n",
    "plt.ylim([0.0, 1.05])\n",
    "plt.xlabel('False Positive Rate')\n",
    "plt.ylabel('True Positive Rate')\n",
    "plt.title('Receiver operating characteristic example')\n",
    "plt.legend(loc=\"lower right\")\n",
    "plt.show()"
   ]
  },
  {
   "cell_type": "markdown",
   "metadata": {},
   "source": [
    "## Undersampling\n",
    "Lets start with random undersampling with simple random undersampling. "
   ]
  },
  {
   "cell_type": "code",
   "execution_count": 13,
   "metadata": {
    "collapsed": true
   },
   "outputs": [],
   "source": [
    "trainIndex0 = list(gTrain.query(\"target==0\").index.values)\n",
    "shuffle(trainIndex1)\n",
    "gTrainUrandom = gTrain.drop(trainIndex0[0:90])\n",
    "gTrain10Urandom = gTrain10.drop(trainIndex0[0:90])\n",
    "gTrain20Urandom = gTrain20.drop(trainIndex0[0:90])"
   ]
  },
  {
   "cell_type": "code",
   "execution_count": 14,
   "metadata": {},
   "outputs": [
    {
     "name": "stdout",
     "output_type": "stream",
     "text": [
      "Train AUC: 0.8281428571428572 Valid AUC: 0.7733862433862434\n",
      "Train AUC: 0.8410714285714285 Valid AUC: 0.7729365079365079\n",
      "Train AUC: 0.8432142857142857 Valid AUC: 0.6847619047619048\n"
     ]
    }
   ],
   "source": [
    "from sklearn import metrics\n",
    "mod = sm.GLM.from_formula(formula=\"target ~ \" + \"+\".join(features), data=gTrainUrandom, family=sm.families.Binomial())\n",
    "res = mod.fit()\n",
    "predsTrain = res.predict()\n",
    "preds = res.predict(gValid)\n",
    "print(\"Train AUC:\", metrics.roc_auc_score(gTrainUrandom.target, predsTrain),\n",
    "      \"Valid AUC:\", metrics.roc_auc_score(gValid.target, preds))\n",
    "\n",
    "mod = sm.GLM.from_formula(formula=\"target ~ \" + \"+\".join(features), data=gTrain20Urandom, family=sm.families.Binomial())\n",
    "res = mod.fit()\n",
    "predsTrain = res.predict()\n",
    "preds = res.predict(gValid20)\n",
    "print(\"Train AUC:\", metrics.roc_auc_score(gTrain20Urandom.target, predsTrain),\n",
    "      \"Valid AUC:\", metrics.roc_auc_score(gValid20.target, preds))\n",
    "\n",
    "mod = sm.GLM.from_formula(formula=\"target ~ \" + \"+\".join(features), data=gTrain10Urandom, family=sm.families.Binomial())\n",
    "res = mod.fit()\n",
    "predsTrain = res.predict()\n",
    "preds = res.predict(gValid10)\n",
    "print(\"Train AUC:\", metrics.roc_auc_score(gTrain10Urandom.target, predsTrain),\n",
    "      \"Valid AUC:\", metrics.roc_auc_score(gValid10.target, preds))"
   ]
  },
  {
   "cell_type": "markdown",
   "metadata": {},
   "source": [
    "### Clusters Centroids\n",
    "As expected Random undersampling did not help too much. Next in line to test is ClusterCentroids algorithm."
   ]
  },
  {
   "cell_type": "code",
   "execution_count": 15,
   "metadata": {},
   "outputs": [
    {
     "name": "stdout",
     "output_type": "stream",
     "text": [
      "(610, 25)\n",
      "(540, 25)\n",
      "(470, 25)\n"
     ]
    }
   ],
   "source": [
    "from imblearn.under_sampling import ClusterCentroids\n",
    "cc = ClusterCentroids(ratio={0:400, 1:210}, random_state=42)\n",
    "X_resampled, y_resampled = cc.fit_sample(gTrain[features], gTrain.target)\n",
    "df = pd.DataFrame(X_resampled, columns=features)\n",
    "df[\"target\"] = y_resampled\n",
    "gTrainUCC = df.copy()\n",
    "print(gTrainUCC.shape)\n",
    "\n",
    "cc = ClusterCentroids(ratio={0:400, 1:140}, random_state=42)\n",
    "X_resampled, y_resampled = cc.fit_sample(gTrain20[features], gTrain20.target)\n",
    "df = pd.DataFrame(X_resampled, columns=features)\n",
    "df[\"target\"] = y_resampled\n",
    "gTrain20UCC = df.copy()\n",
    "print(gTrain20UCC.shape)\n",
    "\n",
    "cc = ClusterCentroids(ratio={0:400, 1:70}, random_state=42)\n",
    "X_resampled, y_resampled = cc.fit_sample(gTrain10[features], gTrain10.target)\n",
    "df = pd.DataFrame(X_resampled, columns=features)\n",
    "df[\"target\"] = y_resampled\n",
    "gTrain10UCC = df.copy()\n",
    "print(gTrain10UCC.shape)"
   ]
  },
  {
   "cell_type": "code",
   "execution_count": 16,
   "metadata": {},
   "outputs": [
    {
     "name": "stdout",
     "output_type": "stream",
     "text": [
      "Train AUC: 0.8219642857142857 Valid AUC: 0.7726984126984128\n",
      "Train AUC: 0.8370714285714286 Valid AUC: 0.7771428571428571\n",
      "Train AUC: 0.8328928571428571 Valid AUC: 0.7050793650793651\n"
     ]
    }
   ],
   "source": [
    "mod = sm.GLM.from_formula(formula=\"target ~ \" + \"+\".join(features), data=gTrainUCC, family=sm.families.Binomial())\n",
    "res = mod.fit()\n",
    "predsTrain = res.predict()\n",
    "preds = res.predict(gValid)\n",
    "print(\"Train AUC:\", metrics.roc_auc_score(gTrainUCC.target, predsTrain),\n",
    "      \"Valid AUC:\", metrics.roc_auc_score(gValid.target, preds))\n",
    "\n",
    "mod = sm.GLM.from_formula(formula=\"target ~ \" + \"+\".join(features), data=gTrain20UCC, family=sm.families.Binomial())\n",
    "res = mod.fit()\n",
    "predsTrain = res.predict()\n",
    "preds = res.predict(gValid20)\n",
    "print(\"Train AUC:\", metrics.roc_auc_score(gTrain20UCC.target, predsTrain),\n",
    "      \"Valid AUC:\", metrics.roc_auc_score(gValid20.target, preds))\n",
    "\n",
    "mod = sm.GLM.from_formula(formula=\"target ~ \" + \"+\".join(features), data=gTrain10UCC, family=sm.families.Binomial())\n",
    "res = mod.fit()\n",
    "predsTrain = res.predict()\n",
    "preds = res.predict(gValid10)\n",
    "print(\"Train AUC:\", metrics.roc_auc_score(gTrain10UCC.target, predsTrain),\n",
    "      \"Valid AUC:\", metrics.roc_auc_score(gValid10.target, preds))"
   ]
  },
  {
   "cell_type": "markdown",
   "metadata": {},
   "source": [
    "### TomekLinks"
   ]
  },
  {
   "cell_type": "code",
   "execution_count": 17,
   "metadata": {},
   "outputs": [
    {
     "name": "stdout",
     "output_type": "stream",
     "text": [
      "(608, 25)\n",
      "(564, 25)\n",
      "(518, 25)\n"
     ]
    }
   ],
   "source": [
    "from imblearn.under_sampling import TomekLinks\n",
    "\n",
    "tl = TomekLinks(ratio={0:400, 1:210}, random_state=42)\n",
    "X_resampled, y_resampled = tl.fit_sample(gTrain[features], gTrain.target)\n",
    "df = pd.DataFrame(X_resampled, columns=features)\n",
    "df[\"target\"] = y_resampled\n",
    "gTrainUTL = df.copy()\n",
    "print(gTrainUTL.shape)\n",
    "\n",
    "tl = TomekLinks(ratio={0:400, 1:140}, random_state=42)\n",
    "X_resampled, y_resampled = tl.fit_sample(gTrain20[features], gTrain20.target)\n",
    "df = pd.DataFrame(X_resampled, columns=features)\n",
    "df[\"target\"] = y_resampled\n",
    "gTrain20UTL = df.copy()\n",
    "print(gTrain20UTL.shape)\n",
    "\n",
    "tl = TomekLinks(ratio={0:400, 1:70}, random_state=42)\n",
    "X_resampled, y_resampled = tl.fit_sample(gTrain10[features], gTrain10.target)\n",
    "df = pd.DataFrame(X_resampled, columns=features)\n",
    "df[\"target\"] = y_resampled\n",
    "gTrain10UTL = df.copy()\n",
    "print(gTrain10UTL.shape)"
   ]
  },
  {
   "cell_type": "code",
   "execution_count": 18,
   "metadata": {},
   "outputs": [
    {
     "name": "stdout",
     "output_type": "stream",
     "text": [
      "Train AUC: 0.8543039991210722 Valid AUC: 0.7792063492063492\n",
      "Train AUC: 0.8751099204482709 Valid AUC: 0.7511904761904762\n",
      "Train AUC: 0.883947608894304 Valid AUC: 0.6493650793650794\n"
     ]
    }
   ],
   "source": [
    "mod = sm.GLM.from_formula(formula=\"target ~ \" + \"+\".join(features), data=gTrainUTL, family=sm.families.Binomial())\n",
    "res = mod.fit()\n",
    "predsTrain = res.predict()\n",
    "preds = res.predict(gValid)\n",
    "print(\"Train AUC:\", metrics.roc_auc_score(gTrainUTL.target, predsTrain),\n",
    "      \"Valid AUC:\", metrics.roc_auc_score(gValid.target, preds))\n",
    "\n",
    "mod = sm.GLM.from_formula(formula=\"target ~ \" + \"+\".join(features), data=gTrain20UTL, family=sm.families.Binomial())\n",
    "res = mod.fit()\n",
    "predsTrain = res.predict()\n",
    "preds = res.predict(gValid20)\n",
    "print(\"Train AUC:\", metrics.roc_auc_score(gTrain20UTL.target, predsTrain),\n",
    "      \"Valid AUC:\", metrics.roc_auc_score(gValid20.target, preds))\n",
    "\n",
    "mod = sm.GLM.from_formula(formula=\"target ~ \" + \"+\".join(features), data=gTrain10UTL, family=sm.families.Binomial())\n",
    "res = mod.fit()\n",
    "predsTrain = res.predict()\n",
    "preds = res.predict(gValid10)\n",
    "print(\"Train AUC:\", metrics.roc_auc_score(gTrain10UTL.target, predsTrain),\n",
    "      \"Valid AUC:\", metrics.roc_auc_score(gValid10.target, preds))"
   ]
  },
  {
   "cell_type": "markdown",
   "metadata": {},
   "source": [
    "### Iterative undersampling\n",
    "**Reminder** In some cases (depending on the split and random draw in removal of observations) with different algorithms and somtetimes not."
   ]
  },
  {
   "cell_type": "code",
   "execution_count": 19,
   "metadata": {},
   "outputs": [
    {
     "name": "stdout",
     "output_type": "stream",
     "text": [
      "(700, 26)\n",
      "(610, 26)\n",
      "Train AUC: 0.8002894182931496 Valid AUC: 0.7774603174603174\n",
      "(630, 26)\n",
      "(474, 26)\n",
      "Train AUC: 0.7854986197377501 Valid AUC: 0.7747619047619048\n",
      "(560, 26)\n",
      "(308, 26)\n",
      "Train AUC: 0.7729661285216841 Valid AUC: 0.6977777777777778\n"
     ]
    }
   ],
   "source": [
    "mod = sm.GLM.from_formula(formula=\"target ~ \" + \"+\".join(features), data=gTrain, family=sm.families.Binomial())\n",
    "res = mod.fit()\n",
    "predsTrain = res.predict()\n",
    "gTrainUIT = gTrain.copy()\n",
    "gTrainUIT[\"probs1\"]=predsTrain\n",
    "print(gTrainUIT.shape)\n",
    "gTrainUIT = gTrainUIT.query(\"probs1>0.05\")\n",
    "print(gTrainUIT.shape)\n",
    "mod = sm.GLM.from_formula(formula=\"target ~ \" + \"+\".join(features), data=gTrainUIT, family=sm.families.Binomial())\n",
    "res = mod.fit()\n",
    "predsTrain = res.predict()\n",
    "preds = res.predict(gValid)\n",
    "print(\"Train AUC:\", metrics.roc_auc_score(gTrainUIT.target, predsTrain),\n",
    "      \"Valid AUC:\", metrics.roc_auc_score(gValid.target, preds))\n",
    "\n",
    "\n",
    "mod = sm.GLM.from_formula(formula=\"target ~ \" + \"+\".join(features), data=gTrain20, family=sm.families.Binomial())\n",
    "res = mod.fit()\n",
    "predsTrain = res.predict()\n",
    "gTrain20UIT = gTrain20.copy()\n",
    "gTrain20UIT[\"probs1\"]=predsTrain\n",
    "print(gTrain20UIT.shape)\n",
    "gTrain20UIT = gTrain20UIT.query(\"probs1>0.05\")\n",
    "print(gTrain20UIT.shape)\n",
    "mod = sm.GLM.from_formula(formula=\"target ~ \" + \"+\".join(features), data=gTrain20UIT, family=sm.families.Binomial())\n",
    "res = mod.fit()\n",
    "predsTrain = res.predict()\n",
    "preds = res.predict(gValid20)\n",
    "print(\"Train AUC:\", metrics.roc_auc_score(gTrain20UIT.target, predsTrain),\n",
    "      \"Valid AUC:\", metrics.roc_auc_score(gValid20.target, preds))\n",
    "\n",
    "mod = sm.GLM.from_formula(formula=\"target ~ \" + \"+\".join(features), data=gTrain10, family=sm.families.Binomial())\n",
    "res = mod.fit()\n",
    "predsTrain = res.predict()\n",
    "gTrain10UIT = gTrain10.copy()\n",
    "gTrain10UIT[\"probs1\"]=predsTrain\n",
    "print(gTrain10UIT.shape)\n",
    "gTrain10UIT = gTrain10UIT.query(\"probs1>0.05\")\n",
    "print(gTrain10UIT.shape)\n",
    "mod = sm.GLM.from_formula(formula=\"target ~ \" + \"+\".join(features), data=gTrain10UIT, family=sm.families.Binomial())\n",
    "res = mod.fit()\n",
    "predsTrain = res.predict()\n",
    "preds = res.predict(gValid10)\n",
    "print(\"Train AUC:\", metrics.roc_auc_score(gTrain10UIT.target, predsTrain),\n",
    "      \"Valid AUC:\", metrics.roc_auc_score(gValid10.target, preds))"
   ]
  },
  {
   "cell_type": "markdown",
   "metadata": {},
   "source": [
    "## Oversampling\n",
    "### SMOTE"
   ]
  },
  {
   "cell_type": "code",
   "execution_count": 20,
   "metadata": {},
   "outputs": [
    {
     "name": "stdout",
     "output_type": "stream",
     "text": [
      "(790, 25)\n",
      "(700, 25)\n",
      "(630, 25)\n"
     ]
    }
   ],
   "source": [
    "from imblearn.over_sampling import SMOTE\n",
    "smt = SMOTE(ratio={0:490, 1:300}, random_state=42)\n",
    "X_resampled, y_resampled = smt.fit_sample(gTrain[features], gTrain.target)\n",
    "df = pd.DataFrame(X_resampled, columns=features)\n",
    "df[\"target\"] = y_resampled\n",
    "gTrainOSM = df.copy()\n",
    "print(gTrainOSM.shape)\n",
    "\n",
    "smt = SMOTE(ratio={0:490, 1:210}, random_state=42)\n",
    "X_resampled, y_resampled = smt.fit_sample(gTrain20[features], gTrain20.target)\n",
    "df = pd.DataFrame(X_resampled, columns=features)\n",
    "df[\"target\"] = y_resampled\n",
    "gTrain20OSM = df.copy()\n",
    "print(gTrain20OSM.shape)\n",
    "\n",
    "smt = SMOTE(ratio={0:490, 1:140}, random_state=42)\n",
    "X_resampled, y_resampled = smt.fit_sample(gTrain10[features], gTrain10.target)\n",
    "df = pd.DataFrame(X_resampled, columns=features)\n",
    "df[\"target\"] = y_resampled\n",
    "gTrain10OSM = df.copy()\n",
    "print(gTrain10OSM.shape)"
   ]
  },
  {
   "cell_type": "code",
   "execution_count": 21,
   "metadata": {},
   "outputs": [
    {
     "name": "stdout",
     "output_type": "stream",
     "text": [
      "Train AUC: 0.8543039991210722 Valid AUC: 0.7792063492063492\n",
      "Train AUC: 0.8751099204482709 Valid AUC: 0.7511904761904762\n",
      "Train AUC: 0.883947608894304 Valid AUC: 0.6493650793650794\n"
     ]
    }
   ],
   "source": [
    "mod = sm.GLM.from_formula(formula=\"target ~ \" + \"+\".join(features), data=gTrainUTL, family=sm.families.Binomial())\n",
    "res = mod.fit()\n",
    "predsTrain = res.predict()\n",
    "preds = res.predict(gValid)\n",
    "print(\"Train AUC:\", metrics.roc_auc_score(gTrainUTL.target, predsTrain),\n",
    "      \"Valid AUC:\", metrics.roc_auc_score(gValid.target, preds))\n",
    "\n",
    "mod = sm.GLM.from_formula(formula=\"target ~ \" + \"+\".join(features), data=gTrain20UTL, family=sm.families.Binomial())\n",
    "res = mod.fit()\n",
    "predsTrain = res.predict()\n",
    "preds = res.predict(gValid20)\n",
    "print(\"Train AUC:\", metrics.roc_auc_score(gTrain20UTL.target, predsTrain),\n",
    "      \"Valid AUC:\", metrics.roc_auc_score(gValid20.target, preds))\n",
    "\n",
    "mod = sm.GLM.from_formula(formula=\"target ~ \" + \"+\".join(features), data=gTrain10UTL, family=sm.families.Binomial())\n",
    "res = mod.fit()\n",
    "predsTrain = res.predict()\n",
    "preds = res.predict(gValid10)\n",
    "print(\"Train AUC:\", metrics.roc_auc_score(gTrain10UTL.target, predsTrain),\n",
    "      \"Valid AUC:\", metrics.roc_auc_score(gValid10.target, preds))"
   ]
  },
  {
   "cell_type": "markdown",
   "metadata": {},
   "source": [
    "### ADASYN"
   ]
  },
  {
   "cell_type": "code",
   "execution_count": 22,
   "metadata": {},
   "outputs": [
    {
     "name": "stdout",
     "output_type": "stream",
     "text": [
      "(774, 25)\n",
      "(703, 25)\n",
      "(626, 25)\n"
     ]
    }
   ],
   "source": [
    "from imblearn.over_sampling import ADASYN\n",
    "ada = ADASYN(ratio={0:490, 1:300}, random_state=42)\n",
    "X_resampled, y_resampled = ada.fit_sample(gTrain[features], gTrain.target)\n",
    "df = pd.DataFrame(X_resampled, columns=features)\n",
    "df[\"target\"] = y_resampled\n",
    "gTrainOADA = df.copy()\n",
    "print(gTrainOADA.shape)\n",
    "\n",
    "ada = ADASYN(ratio={0:490, 1:210}, random_state=42)\n",
    "X_resampled, y_resampled = ada.fit_sample(gTrain20[features], gTrain20.target)\n",
    "df = pd.DataFrame(X_resampled, columns=features)\n",
    "df[\"target\"] = y_resampled\n",
    "gTrain20OADA = df.copy()\n",
    "print(gTrain20OADA.shape)\n",
    "\n",
    "ada = ADASYN(ratio={0:490, 1:140}, random_state=42)\n",
    "X_resampled, y_resampled = ada.fit_sample(gTrain10[features], gTrain10.target)\n",
    "df = pd.DataFrame(X_resampled, columns=features)\n",
    "df[\"target\"] = y_resampled\n",
    "gTrain10OADA = df.copy()\n",
    "print(gTrain10OADA.shape)"
   ]
  },
  {
   "cell_type": "code",
   "execution_count": 23,
   "metadata": {},
   "outputs": [
    {
     "name": "stdout",
     "output_type": "stream",
     "text": [
      "Train AUC: 0.8093489508479448 Valid AUC: 0.7684126984126984\n",
      "Train AUC: 0.837874868257162 Valid AUC: 0.7768253968253969\n"
     ]
    },
    {
     "data": {
      "image/png": "[encoded data removed]",
      "text/plain": [
       "<matplotlib.figure.Figure at 0x7ffaadaea668>"
      ]
     },
     "metadata": {},
     "output_type": "display_data"
    },
    {
     "name": "stdout",
     "output_type": "stream",
     "text": [
      "Train AUC: 0.8487545018007203 Valid AUC: 0.6831746031746031\n"
     ]
    },
    {
     "data": {
      "image/png": "[encoded data removed]",
      "text/plain": [
       "<matplotlib.figure.Figure at 0x7ffaadaf13c8>"
      ]
     },
     "metadata": {},
     "output_type": "display_data"
    }
   ],
   "source": [
    "mod = sm.GLM.from_formula(formula=\"target ~ \" + \"+\".join(features), data=gTrainOADA, family=sm.families.Binomial())\n",
    "res = mod.fit()\n",
    "predsTrain = res.predict()\n",
    "preds = res.predict(gValid)\n",
    "print(\"Train AUC:\", metrics.roc_auc_score(gTrainOADA.target, predsTrain),\n",
    "      \"Valid AUC:\", metrics.roc_auc_score(gValid.target, preds))\n",
    "\n",
    "mod = sm.GLM.from_formula(formula=\"target ~ \" + \"+\".join(features), data=gTrain20OADA, family=sm.families.Binomial())\n",
    "res = mod.fit()\n",
    "predsTrain = res.predict()\n",
    "preds = res.predict(gValid20)\n",
    "print(\"Train AUC:\", metrics.roc_auc_score(gTrain20OADA.target, predsTrain),\n",
    "      \"Valid AUC:\", metrics.roc_auc_score(gValid20.target, preds))\n",
    "\n",
    "fpr, tpr, _ = roc_curve(gValid20.target, preds)\n",
    "plt.figure()\n",
    "lw = 2\n",
    "plt.plot(fpr, tpr, color='darkorange',\n",
    "         lw=lw, label='ROC curve')\n",
    "plt.plot(fprNS, tprNS, color='darkgreen',\n",
    "         lw=lw, label='ROC curve')\n",
    "plt.plot([0, 1], [0, 1], color='navy', lw=lw, linestyle='--')\n",
    "plt.xlim([0.0, 1.0])\n",
    "plt.ylim([0.0, 1.05])\n",
    "plt.xlabel('False Positive Rate')\n",
    "plt.ylabel('True Positive Rate')\n",
    "plt.title('Receiver operating characteristic example')\n",
    "plt.legend(loc=\"lower right\")\n",
    "plt.show()\n",
    "\n",
    "mod = sm.GLM.from_formula(formula=\"target ~ \" + \"+\".join(features), data=gTrain10OADA, family=sm.families.Binomial())\n",
    "res = mod.fit()\n",
    "predsTrain = res.predict()\n",
    "preds = res.predict(gValid10)\n",
    "print(\"Train AUC:\", metrics.roc_auc_score(gTrain10OADA.target, predsTrain),\n",
    "      \"Valid AUC:\", metrics.roc_auc_score(gValid10.target, preds))\n",
    "\n",
    "fpr, tpr, _ = roc_curve(gValid10.target, preds)\n",
    "plt.figure()\n",
    "lw = 2\n",
    "plt.plot(fpr, tpr, color='darkorange',\n",
    "         lw=lw, label='ROC curve')\n",
    "plt.plot(fprNS2, tprNS2, color='darkgreen',\n",
    "         lw=lw, label='ROC curve')\n",
    "plt.plot([0, 1], [0, 1], color='navy', lw=lw, linestyle='--')\n",
    "plt.xlim([0.0, 1.0])\n",
    "plt.ylim([0.0, 1.05])\n",
    "plt.xlabel('False Positive Rate')\n",
    "plt.ylabel('True Positive Rate')\n",
    "plt.title('Receiver operating characteristic example')\n",
    "plt.legend(loc=\"lower right\")\n",
    "plt.show()"
   ]
  },
  {
   "cell_type": "code",
   "execution_count": null,
   "metadata": {
    "collapsed": true
   },
   "outputs": [],
   "source": []
  }
 ],
 "metadata": {
  "kernelspec": {
   "display_name": "Python 3",
   "language": "python",
   "name": "python3"
  },
  "language_info": {
   "codemirror_mode": {
    "name": "ipython",
    "version": 3
   },
   "file_extension": ".py",
   "mimetype": "text/x-python",
   "name": "python",
   "nbconvert_exporter": "python",
   "pygments_lexer": "ipython3",
   "version": "3.6.5"
  }
 },
 "nbformat": 4,
 "nbformat_minor": 2
}
