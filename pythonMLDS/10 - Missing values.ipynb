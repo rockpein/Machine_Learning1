{
 "cells": [
  {
   "cell_type": "markdown",
   "metadata": {},
   "source": [
    "# Missing data imputation\n",
    "Another important topic in the preparation of data for machine learning models is the issue of missing data.\n",
    "\n",
    "In case of missing data, one can:\n",
    "\n",
    "1. Omit observations with missings (not recommended, avoid if possible)\n",
    "2. Omit in the analysis a variable with a large number of missing data\n",
    "3. Replace the missings in a sensible way\n",
    "4. for the qualitative variable - create a separate category \"no data\"\n",
    "\n",
    "**Ad 1.**\n",
    "\n",
    "Missing value in one column eliminates whole observation from modelling. If dataset is large, the elimination of some observations due to missing data, especially if missings are random, is not a big problem.\n",
    "\n",
    "Worse if the dataset is small and missings have non-random character. Their elimination will change thestructure of the sample and will cause drawing wrong conclusions from the analysis.\n",
    "\n",
    "**Ad 2.**\n",
    "\n",
    "If a relatively large number of missing data is concentrated in a small number of variables, it may make sense to omit these variables in the analysis, which will limit the number of features taken under consideration in modeling, but will not limit the sample (and, equally important - it will not change its structure).\n",
    "\n",
    "Often it is assumed that if the variable has more than 5%-10% missings, one should consider omitting it in the analysis.\n",
    "\n",
    "**Ad 3.**\n",
    "\n",
    "An alternative to removing observations with missings is replacing missing values in a sensible way. Replacing/filling missings is also called **IMPUTATION**.\n",
    "\n",
    "The missing value of the quantitative variable can be replaced (ALWAYS after analyzing the data and its context): \n",
    "\n",
    "* by the single selected value (sometimes missings can be replaced with 0),\n",
    "\n",
    "    * average / median / mode for the whole sample\n",
    "    * mean / median / mode for the subgroup (defined by another variable / variables) to which observation belongs \n",
    "    * by the predicted value from some model estimated on non-missings (regressive imputation) in which the feature with missing values is an explanatory variable, and other variables are predictors (in other words - check if the value of the feature with missings can be predicted with the use of values of other, non-missing variables for this observation)\n",
    "    * by a random value from a reasonable distribution (e.g. from non-missings)\n",
    "    * apply multiple imputation - replace missing value many times with different values (from the assumed distribution), on each completed dataset perform the analysis and average results.\n",
    "\n",
    "**Ad 4.**\n",
    "\n",
    "For the qualitative variable a missing value can be:\n",
    "\n",
    "* encoded as a separate category\n",
    "* replace with the most common value (mode) - rather not recommended as it changes the distribution.\n",
    "* replace with the mode for the subgroup\n",
    "* replace with the random value from non-missings\n"
   ]
  },
  {
   "cell_type": "markdown",
   "metadata": {},
   "source": [
    "Lets load medical data and check if there are missing values. Lets limit ourselfs to a much smaller number of variables for this lesson."
   ]
  },
  {
   "cell_type": "code",
   "execution_count": 31,
   "metadata": {},
   "outputs": [
    {
     "name": "stdout",
     "output_type": "stream",
     "text": [
      "['Yes' 'No']\n",
      "[1 0]\n"
     ]
    }
   ],
   "source": [
    "import pandas as pd\n",
    "import numpy as np\n",
    "import pickle\n",
    "import statsmodels.api as sm\n",
    "\n",
    "import matplotlib.pyplot as plt\n",
    "plt.style.use('seaborn-ticks')\n",
    "%matplotlib inline\n",
    "\n",
    "pd.set_option(\"display.max_columns\",101)\n",
    "\n",
    "import gc\n",
    "import math\n",
    "\n",
    "medical = pd.read_pickle(\"data/medical.p\")\n",
    "print(medical.UCURNINS.unique())\n",
    "medical[\"UCURNINS\"] = (medical.UCURNINS==\"Yes\").astype(int)\n",
    "print(medical.UCURNINS.unique())\n",
    "allVars = [\"UCURNINS\",  \"USATMED\", \"FDOCT\", \"FDENT\", \"UEDUC3\"]\n",
    "medical = medical[allVars]\n",
    "features = [\"USATMED\", \"FDOCT\", \"FDENT\", \"UEDUC3\"]"
   ]
  },
  {
   "cell_type": "markdown",
   "metadata": {},
   "source": [
    "Lets normalize the data set for our features in a simple way."
   ]
  },
  {
   "cell_type": "code",
   "execution_count": 32,
   "metadata": {},
   "outputs": [],
   "source": [
    "medical[features] = medical[features]/medical[features].max()"
   ]
  },
  {
   "cell_type": "markdown",
   "metadata": {},
   "source": [
    "isna() returns boolean df. When we sum the columns we can see how many missing values there are in each one. Clearly there are none in this case."
   ]
  },
  {
   "cell_type": "code",
   "execution_count": 3,
   "metadata": {},
   "outputs": [
    {
     "data": {
      "text/plain": [
       "UCURNINS    0\n",
       "USATMED     0\n",
       "FDOCT       0\n",
       "FDENT       0\n",
       "UEDUC3      0\n",
       "dtype: int64"
      ]
     },
     "execution_count": 3,
     "metadata": {},
     "output_type": "execute_result"
    }
   ],
   "source": [
    "medical.isna().sum()"
   ]
  },
  {
   "cell_type": "markdown",
   "metadata": {},
   "source": [
    "Lets split the data into training and validation. We will create \"missing\" values in some column in the training set to evaluate different inputation methods later on."
   ]
  },
  {
   "cell_type": "code",
   "execution_count": 17,
   "metadata": {},
   "outputs": [
    {
     "name": "stdout",
     "output_type": "stream",
     "text": [
      "(3507, 5) (31565, 5)\n"
     ]
    }
   ],
   "source": [
    "import random\n",
    "from sklearn.model_selection import train_test_split\n",
    "medicalT, medicalV, y_train, y_test = train_test_split(medical, medical.UCURNINS, stratify=medical.UCURNINS, test_size=0.9, random_state=random.randint(0,10000))\n",
    "print(medicalT.shape, medicalV.shape)"
   ]
  },
  {
   "cell_type": "markdown",
   "metadata": {},
   "source": [
    "**CAUTION!!** To amplify the results we are reducing the size of training dataset very strongly. All the results below may depend heavily on the stochstic element."
   ]
  },
  {
   "cell_type": "markdown",
   "metadata": {},
   "source": [
    "Lets create a copy to have a deteset in which we will input missing values."
   ]
  },
  {
   "cell_type": "code",
   "execution_count": 18,
   "metadata": {
    "collapsed": true
   },
   "outputs": [],
   "source": [
    "medicalM = medicalT.copy()\n",
    "\n",
    "# lets get the number of observation that is equal to 1%.\n",
    "len1 = int(medicalM.shape[0]/100)\n",
    "\n",
    "\n",
    "medicalM.loc[medicalM.sample(50*len1).index, \"FDENT\"] = np.nan\n",
    "medicalM.loc[medicalM.sample(35*len1).index, \"FDOCT\"] = np.nan\n",
    "medicalM.loc[medicalM.sample(20*len1).index, \"USATMED\"] = np.nan\n",
    "medicalM.loc[medicalM.sample(10*len1).index, \"UEDUC3\"] = np.nan"
   ]
  },
  {
   "cell_type": "markdown",
   "metadata": {},
   "source": [
    "We can now see that in our \"missing\" dataset we have complete information for most observations. Most missings are in just one row but it can happen that we will get up to 4 missing values in a row."
   ]
  },
  {
   "cell_type": "code",
   "execution_count": 19,
   "metadata": {},
   "outputs": [
    {
     "data": {
      "text/plain": [
       "1    1528\n",
       "2     921\n",
       "0     846\n",
       "3     193\n",
       "4      19\n",
       "dtype: int64"
      ]
     },
     "execution_count": 19,
     "metadata": {},
     "output_type": "execute_result"
    }
   ],
   "source": [
    "medicalM.isna().sum(axis=1).value_counts()"
   ]
  },
  {
   "cell_type": "markdown",
   "metadata": {},
   "source": [
    "## Ommitting missing values\n",
    "The most basic thing we can do is omit the observations that do not have complete observations for all variables.\n"
   ]
  },
  {
   "cell_type": "code",
   "execution_count": 20,
   "metadata": {},
   "outputs": [
    {
     "name": "stdout",
     "output_type": "stream",
     "text": [
      "(3507, 5)\n",
      "(846, 5)\n"
     ]
    }
   ],
   "source": [
    "medicalOmit = medicalM.copy()\n",
    "medicalOmit.dropna(inplace=True)\n",
    "print(medicalM.shape)\n",
    "print(medicalOmit.shape)"
   ]
  },
  {
   "cell_type": "markdown",
   "metadata": {},
   "source": [
    "This way we lose a lot of information. Lets see how it affects our training. We run our logit regression on limited number of variables to clearly see the efects of missing values."
   ]
  },
  {
   "cell_type": "code",
   "execution_count": 21,
   "metadata": {},
   "outputs": [
    {
     "name": "stdout",
     "output_type": "stream",
     "text": [
      "No missings: 0.7618182165070773\n",
      "Ommiting missings: 0.7493880540661864\n"
     ]
    }
   ],
   "source": [
    "from sklearn.model_selection import KFold\n",
    "from sklearn import neighbors\n",
    "from sklearn.metrics import roc_auc_score\n",
    "\n",
    "\n",
    "n_neighbors = 20\n",
    "clf = neighbors.KNeighborsClassifier(n_neighbors, n_jobs=-1, p=2)\n",
    "\n",
    "clf.fit(medicalT[features].values, medicalT[\"UCURNINS\"].values)\n",
    "preds = clf.predict_proba(medicalV[features].values)\n",
    "\n",
    "clf.fit(medicalOmit[features].values, medicalOmit[\"UCURNINS\"].values)\n",
    "predsOmit = clf.predict_proba(medicalV[features].values)\n",
    "\n",
    "\n",
    "print(\"No missings:\", roc_auc_score(medicalV[\"UCURNINS\"], preds[:,1]))\n",
    "print(\"Ommiting missings:\",roc_auc_score(medicalV[\"UCURNINS\"], predsOmit[:,1]))"
   ]
  },
  {
   "cell_type": "markdown",
   "metadata": {},
   "source": [
    "As we can see logistic regression is highly resiliant to number of observations and missing values. We have anly slightly lower score when we omit missing values. In other cases it may be much stronger so lets see if we can mitigate it somehow.\n",
    "\n",
    "## Inputation using averages\n",
    "\n",
    "The most basic way to input missign values is to input mean value (of whole dataset or by some type of grouping/aggregation)."
   ]
  },
  {
   "cell_type": "code",
   "execution_count": 22,
   "metadata": {},
   "outputs": [],
   "source": [
    "medicalMean = medicalM.copy()"
   ]
  },
  {
   "cell_type": "code",
   "execution_count": 23,
   "metadata": {},
   "outputs": [],
   "source": [
    "# features = [\"USATMED\", \"FDOCT\", \"FDENT\", \"UEDUC3\"]\n",
    "medicalMean.loc[medicalMean.USATMED.isna(), \"USATMED\"] = medicalM[\"USATMED\"].mean()\n",
    "medicalMean.loc[medicalMean.FDOCT.isna(), \"FDOCT\"] = medicalM[\"FDOCT\"].mean()\n",
    "medicalMean.loc[medicalMean.FDENT.isna(), \"FDENT\"] = medicalM[\"FDENT\"].mean()\n",
    "medicalMean.loc[medicalMean.UEDUC3.isna(), \"UEDUC3\"] = medicalM[\"UEDUC3\"].mean()"
   ]
  },
  {
   "cell_type": "code",
   "execution_count": 24,
   "metadata": {},
   "outputs": [
    {
     "data": {
      "text/plain": [
       "UCURNINS    0\n",
       "USATMED     0\n",
       "FDOCT       0\n",
       "FDENT       0\n",
       "UEDUC3      0\n",
       "dtype: int64"
      ]
     },
     "execution_count": 24,
     "metadata": {},
     "output_type": "execute_result"
    }
   ],
   "source": [
    "medicalMean.isna().sum()"
   ]
  },
  {
   "cell_type": "code",
   "execution_count": 25,
   "metadata": {},
   "outputs": [
    {
     "name": "stdout",
     "output_type": "stream",
     "text": [
      "No missings: 0.7618182165070773\n",
      "Ommiting missings: 0.7490579218120181\n"
     ]
    }
   ],
   "source": [
    "from sklearn.model_selection import KFold\n",
    "from sklearn import neighbors\n",
    "n_neighbors = 20\n",
    "clf = neighbors.KNeighborsClassifier(n_neighbors, n_jobs=-1, p=2)\n",
    "\n",
    "clf.fit(medicalT[features].values, medicalT[\"UCURNINS\"].values)\n",
    "preds = clf.predict_proba(medicalV[features].values)\n",
    "\n",
    "clf.fit(medicalMean[features].values, medicalMean[\"UCURNINS\"].values)\n",
    "predsOmit = clf.predict_proba(medicalV[features].values)\n",
    "\n",
    "\n",
    "print(\"No missings:\", roc_auc_score(medicalV[\"UCURNINS\"], preds[:,1]))\n",
    "print(\"Ommiting missings:\",roc_auc_score(medicalV[\"UCURNINS\"], predsOmit[:,1]))"
   ]
  },
  {
   "cell_type": "code",
   "execution_count": null,
   "metadata": {
    "collapsed": true
   },
   "outputs": [],
   "source": []
  },
  {
   "cell_type": "code",
   "execution_count": 26,
   "metadata": {},
   "outputs": [
    {
     "data": {
      "text/plain": [
       "0.5    1868\n",
       "1.0     948\n",
       "0.0     341\n",
       "Name: UEDUC3, dtype: int64"
      ]
     },
     "execution_count": 26,
     "metadata": {},
     "output_type": "execute_result"
    }
   ],
   "source": [
    "medicalMean = medicalM.copy()\n",
    "medicalMean.UEDUC3.value_counts()"
   ]
  },
  {
   "cell_type": "code",
   "execution_count": 27,
   "metadata": {},
   "outputs": [],
   "source": [
    "for var in features:\n",
    "    means = medicalM.groupby(\"UEDUC3\")[var].mean()\n",
    "    medicalMean[\"temp\"] = medicalMean.UEDUC3.replace(means)\n",
    "    medicalMean.loc[medicalMean[var].isna(), var] = medicalMean.loc[medicalMean[var].isna(), \"temp\"]\n",
    "    \n",
    "medicalMean.loc[medicalMean.USATMED.isna(), \"USATMED\"] = medicalM[\"USATMED\"].mean()\n",
    "medicalMean.loc[medicalMean.FDOCT.isna(), \"FDOCT\"] = medicalM[\"FDOCT\"].mean()\n",
    "medicalMean.loc[medicalMean.FDENT.isna(), \"FDENT\"] = medicalM[\"FDENT\"].mean()\n",
    "medicalMean.loc[medicalMean.UEDUC3.isna(), \"UEDUC3\"] = medicalM[\"UEDUC3\"].mean()"
   ]
  },
  {
   "cell_type": "code",
   "execution_count": 28,
   "metadata": {},
   "outputs": [
    {
     "name": "stdout",
     "output_type": "stream",
     "text": [
      "No missings: 0.7618182165070773\n",
      "Ommiting missings: 0.7497223164254384\n"
     ]
    }
   ],
   "source": [
    "from sklearn.model_selection import KFold\n",
    "from sklearn import neighbors\n",
    "n_neighbors = 20\n",
    "clf = neighbors.KNeighborsClassifier(n_neighbors, n_jobs=-1, p=2)\n",
    "\n",
    "clf.fit(medicalT[features].values, medicalT[\"UCURNINS\"].values)\n",
    "preds = clf.predict_proba(medicalV[features].values)\n",
    "\n",
    "clf.fit(medicalMean[features].values, medicalMean[\"UCURNINS\"].values)\n",
    "predsOmit = clf.predict_proba(medicalV[features].values)\n",
    "\n",
    "\n",
    "print(\"No missings:\", roc_auc_score(medicalV[\"UCURNINS\"], preds[:,1]))\n",
    "print(\"Ommiting missings:\",roc_auc_score(medicalV[\"UCURNINS\"], predsOmit[:,1]))"
   ]
  },
  {
   "cell_type": "markdown",
   "metadata": {},
   "source": [
    "## Working with missing nominal non-ordinal data\n",
    "Mode is the most common value. Mode is the most common way to input values for missing non-ordinal data. To use more advanced inputation methods than basing on aggregation and mode we would need to employ multinominal classification."
   ]
  },
  {
   "cell_type": "markdown",
   "metadata": {},
   "source": [
    "## Excercises\n",
    "\n",
    "**Exercise 10.1**\n",
    "\n",
    "Please check missing values of variables in the titanic set. Visualize missings with `md.pattern()` and `aggr()`. WARNING! Check if you correctly identify missing data in text columns!\n",
    "\n",
    "**Exercise 10.2**\n",
    "\n",
    "Please create a copy of the titanic data containing only non-missing observations - how many have been left?\n",
    "\n",
    "\n",
    "**Exercise 10.3**\n",
    "\n",
    "Please create a copy of the titanic data, then:\n",
    "\n",
    "* remove variables with a very large number of missings\n",
    "* missings from the \"embarked\" column replace with the value \"S\" \n",
    "* missings from the \"age\" column replace with the mean / median in subgroups according to the variables \"pclass\", \"survived\" and \"sibsp\""
   ]
  },
  {
   "cell_type": "code",
   "execution_count": null,
   "metadata": {
    "collapsed": true
   },
   "outputs": [],
   "source": []
  },
  {
   "cell_type": "code",
   "execution_count": null,
   "metadata": {
    "collapsed": true
   },
   "outputs": [],
   "source": []
  },
  {
   "cell_type": "code",
   "execution_count": null,
   "metadata": {
    "collapsed": true
   },
   "outputs": [],
   "source": []
  }
 ],
 "metadata": {
  "kernelspec": {
   "display_name": "Python 3",
   "language": "python",
   "name": "python3"
  },
  "language_info": {
   "codemirror_mode": {
    "name": "ipython",
    "version": 3
   },
   "file_extension": ".py",
   "mimetype": "text/x-python",
   "name": "python",
   "nbconvert_exporter": "python",
   "pygments_lexer": "ipython3",
   "version": "3.6.5"
  }
 },
 "nbformat": 4,
 "nbformat_minor": 2
}
