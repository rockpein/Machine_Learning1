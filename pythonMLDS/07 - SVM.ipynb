{
 "cells": [
  {
   "cell_type": "markdown",
   "metadata": {},
   "source": [
    "## Support Vector Machines - SVM\n",
    "Support Vector Machines (SVM) is one of the most popular basic algorithms for classification. It is based on an assumption that in a multi-dimensional space there exists a space that separates the classes. This hyperplane will try to separate classes in an optimal way - in such a way that the distance between this hyper plane and observations from both classes is equal and maximized.\n",
    "\n",
    "To put is in other words we want to have a line (hyperplane) that runs as perfectly in the middle between groups (classes) as possible. The meaning of \"in the middle\" is perfectly illustrated below."
   ]
  },
  {
   "cell_type": "markdown",
   "metadata": {},
   "source": [
    "<img src=\"img/svm_MA.png\">\n",
    "Source: https://blog.statsbot.co/support-vector-machines-tutorial-c1618e635e93\n",
    "\n",
    "It is clear that in the left figure the separating line makes a \"worse\" division. Some observations are really close to the line. With slightly different random draws the risk of miss-classification is greater.\n",
    "\n",
    "<img src=\"img/svm_MB.png\">\n",
    "Source: https://blog.statsbot.co/support-vector-machines-tutorial-c1618e635e93"
   ]
  },
  {
   "cell_type": "markdown",
   "metadata": {},
   "source": [
    "Lets see how this separation problem looks like formally. We are looking for a vector $\\beta$, so that the distance to the closest observation is maximized.\n",
    "\n",
    "$$\\min_{\\beta,\\beta_0}\\frac{1}{2}\\left \\| \\beta \\right \\|^2$$\n",
    "$$\\text{s.t. } y_i(x^T_i\\beta + \\beta_0)\\geq 1$$\n",
    "\n",
    "In the equation above in optimization constraints there is inequality sign. This means that we only take into consideration the observations that are \"the closest\". When the observation is already properly classified (far from the decision hyperplane) we do not include it in the loss function. As a result only the distance to few observations is taken into account."
   ]
  },
  {
   "cell_type": "markdown",
   "metadata": {},
   "source": [
    "<img src=\"img/svm_hyper_log.png\">\n",
    "Source: Elements of Statistical learning. In the figure red line represents SVM separation and blue line is a result of logistic regression classification.\n",
    "\n",
    "\n",
    "### Inexistence of full separability.\n",
    "In most cases it is impossible to fully separate two groups with a hyperplane. In this case we can calculate how far those missclassified observations are \"over the line\" ($\\xi_i$). We will reformualte the optimization problem as follows:\n",
    "$$\\min_{\\beta,\\beta_0}\\frac{1}{2}\\left \\| \\beta \\right \\|^2$$\n",
    "$$\\text{s.t. } y_i(x^T_i\\beta + \\beta_0)\\geq 1-\\xi_i$$\n",
    "\n",
    "This extensions is illustrated below:\n",
    "<img src=\"img/svm_nonsep.png\">\n",
    "Source: Elements of Statistical learning\n",
    "\n",
    "### Penalty for errors\n",
    "We include parameter C that determines the strenthg with which we want to penalize those errors.\n",
    "$$\\min_{\\beta,\\beta_0}\\frac{1}{2}\\left \\| \\beta \\right \\|^2 + C\\sum_{i=0}^{N}\\xi_i$$\n",
    "$$\\text{s.t. } y_i(x^T_i\\beta + \\beta_0)\\geq 1-\\xi_i$$\n",
    "\n",
    "Example of effect of the size of C on the hyperplane in a fully separable probem:\n",
    "<img src=\"img/svm_DiffC.png\">\n",
    "Source: https://jakevdp.github.io/PythonDataScienceHandbook/05.07-support-vector-machines.html / Own compilation. Code to generate samples et the end of the notebook.\n",
    "\n",
    "Example of effect of the size of C on the hyperplane in a non separable probem:\n",
    "<img src=\"img/svm_DiffC1.png\">\n",
    "Source: https://jakevdp.github.io/PythonDataScienceHandbook/05.07-support-vector-machines.html / Own compilation. Code to generate samples et the end of the notebook.\n",
    "\n",
    "### Support vectors\n",
    "In a fully separable scenario the observations for which we maximize the distance to the separation hyperplane are called support vectors. Each observation is a multidimensional vector. As we build the hyperplane based on those vectors we can say that the plane is supported by them. Hence the name support vector machine."
   ]
  },
  {
   "cell_type": "markdown",
   "metadata": {},
   "source": [
    "### Nonlinearity\n",
    "In practice limiting yourself to a linear hyperplane usually does not allow us to achieve good separation and therefore classification efficiency.\n",
    "\n",
    "<img src=\"img/svm_ME.png\">\n",
    "Source: https://blog.statsbot.co/support-vector-machines-tutorial-c1618e635e93\n",
    "\n",
    "One solution to this problem is feature engineering. We can manualy generate new variables, for example by using polynominals in such a simple way $(x+y)^2 = x^2+2xy+y^2$. This way we transform a two dimensional problem into a three dimensional space. In this case it allows us to achieve great results.\n",
    "<img src=\"img/svm_MF.gif\">\n",
    "<img src=\"img/svm_MG.png\">\n",
    "Source: https://blog.statsbot.co/support-vector-machines-tutorial-c1618e635e93\n",
    "\n",
    "Other examples of non linear transformation of input space:\n",
    "<img src=\"img/svm_mapping1.png\" width=\"40%\"><img src=\"img/svm_mapping2.png\" width=\"40%\"><img src=\"img/svm_mapping3.jpg\" width=\"40%\">\n",
    "\n",
    "Usually we do not want to relay on manual transformations. On one hand it is time consuming and on the other error-prone. This is why we use kernel transformations.\n",
    "\n",
    "### Kernels\n",
    "When we look at the definition of SVM optimization problem we see that it is easy to reformulate this problem, so that we will be able to capture non linear relationships. Instead of using $x_i$ we can use any transformation of it $h(x_i)$. For our optimization problem it makes very little difference how many independent variables there are as long as the number of observations stays the same.\n",
    "\n",
    "$$\\min_{\\beta,\\beta_0}\\frac{1}{2}\\left \\| \\beta \\right \\|^2 + C\\sum_{i=0}^{N}\\xi_i$$\n",
    "$$\\text{s.t. } y_i h(x_i)\\geq 1-\\xi_i$$\n",
    "For which the solution is:\n",
    "$$\\hat \\beta = \\sum_{i=0}^{N}\\hat\\alpha y_i x_i$$\n",
    "$$f(x) = h(x)^T\\beta+\\beta_0 = \\sum_{i=0}^{N}\\alpha y_i \\left \\langle h(x),h(x_i) \\right \\rangle + \\beta_0$$\n",
    "only for those $i$ that are in the decision boundry (that are not classified good enough).\n",
    "\n",
    "The function $h(x)$ can be almost enythin. We will call this transformation a kernel (https://en.wikipedia.org/wiki/Kernel_method) K.\n",
    "$$K(x, x') =  \\left \\langle h(x),h(x') \\right \\rangle$$\n",
    "\n",
    "Kernels are fot products between one observation and all observations in the training set. We can interpret kernels as functions that measure similarity. It is called a kernel trick because we do not compute a new dataset with all features in new high dimensional space but rather just look at the results of the dot product. Therefore we have the advantage of high dimensionality with reduced computational burden.\n",
    "\n",
    "The mose popular kernels are polynominal\n",
    "$$K(x, x') = (1 + \\left \\langle h(x),h(x') \\right \\rangle)^d$$\n",
    "and radial  (RBF - radial Basis Function)\n",
    "$$K(x, x') = \\exp(−\\gamma \\left \\| x-x' \\right \\|^2 )$$\n",
    "\n",
    "\n",
    "### SVM - extensions\n",
    "In the basic version SVM is suitable only for binary classification problems. In practice it is easy to extend it to multinominal classification problems and even regression problems.\n",
    "\n",
    "To apply binary calssification to multinominal problems we usually use one of two approaches:\n",
    "* One vs All (OvA) also known as One vs Rest (OvR). In this case for $K$ classes we run $K$ classifiers. In each case we assume that observations from one class are \"1\" and observations from all other classes are \"0\". Next when we make a prediction we run all K classificators. It is possible that there wil be a \"tie\" when two or more classificators predict \"1\". In such a case we need to relay on probabilities or random assignment.\n",
    "* One vs One (OvO). In this approach we conctruct $K(K-2)/2$ classifieres. Each one is trained on a subsample of observations that contains only data for two classes. Next we make a decision about our final prediction based on voting of classifiers. Just like in OvA \"tie\" is a possibility.\n",
    "\n",
    "### SVM - summary\n",
    "Advantages:\n",
    "* it is very efficient when groups are fully or almost fully separable.\n",
    "* can work very well when we have more independent variables than observations.\n",
    "* can be adjusted to work well with unbalanced datasets.\n",
    "* very little hyper parameters to tune.\n",
    "* resiliant to overfitting to a degree\n",
    "* it is partialy immune to outliers\n",
    "\n",
    "Disatvantages:\n",
    "* Very slow for large number of observations.\n",
    "* Not the most efficient when separability is low.\n",
    "* Does nto allow for inference."
   ]
  },
  {
   "cell_type": "markdown",
   "metadata": {},
   "source": [
    "## SMV - excercises\n",
    "First lets import all the libraries and the dataset."
   ]
  },
  {
   "cell_type": "code",
   "execution_count": 1,
   "metadata": {},
   "outputs": [
    {
     "name": "stderr",
     "output_type": "stream",
     "text": [
      "/home/wilam/.local/lib/python3.6/site-packages/statsmodels/compat/pandas.py:56: FutureWarning: The pandas.core.datetools module is deprecated and will be removed in a future version. Please use the pandas.tseries module instead.\n",
      "  from pandas.core import datetools\n"
     ]
    }
   ],
   "source": [
    "import pandas as pd\n",
    "import numpy as np\n",
    "import pickle\n",
    "import statsmodels.api as sm\n",
    "\n",
    "import matplotlib.pyplot as plt\n",
    "plt.style.use('seaborn-ticks')\n",
    "%matplotlib inline\n",
    "\n",
    "import gc"
   ]
  },
  {
   "cell_type": "code",
   "execution_count": 2,
   "metadata": {},
   "outputs": [
    {
     "name": "stdout",
     "output_type": "stream",
     "text": [
      "['Yes' 'No']\n",
      "[1 0]\n"
     ]
    }
   ],
   "source": [
    "medical = pd.read_pickle(\"datasets/medical.p\")\n",
    "print(medical.UCURNINS.unique())\n",
    "medical[\"UCURNINS\"] = (medical.UCURNINS==\"Yes\").astype(int)\n",
    "print(medical.UCURNINS.unique())\n",
    "features = [\"UMARSTAT\", \"USATMED\", \"URELATE\", \"REGION\", \"FHOSP\", \"FDENT\", \"FEMER\", \"FDOCT\", \"UIMMSTAT\", \"UAGE\", \"U_FTPT\", \"U_WKSLY\", \"U_USHRS\", \"HOTHVAL\", \"HRETVAL\", \"HSSVAL\", \"HWSVAL\", \"UBRACE\", \"UEDUC3\", \"GENDER\"]\n",
    "levCols = []\n",
    "numCols = []\n",
    "for col in features:\n",
    "    if medical[col].dtype==object:\n",
    "        levCols.append(col)\n",
    "    else:\n",
    "        numCols.append(col)\n",
    "\n",
    "# Binaryzacja zmiennych nominalnych\n",
    "dummLev = pd.get_dummies(medical[levCols], drop_first=True)\n",
    "dummLev.shape\n",
    "medical2 = pd.concat([medical[numCols], dummLev], axis=1)"
   ]
  },
  {
   "cell_type": "markdown",
   "metadata": {},
   "source": [
    "Just like with k-NN we need to normalize our variables."
   ]
  },
  {
   "cell_type": "code",
   "execution_count": 3,
   "metadata": {
    "collapsed": true
   },
   "outputs": [],
   "source": [
    "medical2[numCols] = medical2[numCols].apply(lambda x: (x-x.mean())/x.std())\n",
    "features = medical2.columns.tolist()"
   ]
  },
  {
   "cell_type": "code",
   "execution_count": 4,
   "metadata": {
    "collapsed": true
   },
   "outputs": [],
   "source": [
    "from sklearn.model_selection import KFold\n",
    "from sklearn import metrics\n",
    "from sklearn.svm import SVC"
   ]
  },
  {
   "cell_type": "markdown",
   "metadata": {},
   "source": [
    "Lets start with simple linear kernel. As the time to run SVM increases quadraticly with number of observations we can lmit the number of samples for training. Depending on your machine values from 500 to 2000 are reasonable."
   ]
  },
  {
   "cell_type": "code",
   "execution_count": 5,
   "metadata": {},
   "outputs": [
    {
     "name": "stdout",
     "output_type": "stream",
     "text": [
      "0.8131217295856139\n",
      "[0.7999840326089609, 0.8223812941196843, 0.7736003726320628, 0.8395082769240639, 0.8301346716432967]\n",
      "0.7862821867208526\n",
      "[0.780957804445589, 0.8049579927737047, 0.7451214130982506, 0.8051360277271393, 0.7952376955595792]\n"
     ]
    }
   ],
   "source": [
    "limit = 2000\n",
    "kf = KFold(n_splits=5)\n",
    "aucs = []\n",
    "aucsT = []\n",
    "clf = SVC(C=1, cache_size=500, kernel='linear',\n",
    "    max_iter=-1, probability=True,\n",
    "    tol=0.001, verbose=False)\n",
    "\n",
    "for train, test in kf.split(medical2.index.values):\n",
    "    X = medical2.iloc[train].sample(limit)\n",
    "    clf.fit(X[features].values, medical.iloc[X.index.values][\"UCURNINS\"].values)\n",
    "    prob = clf.predict_proba(medical2.iloc[test][features].values)\n",
    "    aucs.append(metrics.roc_auc_score(medical.iloc[test][\"UCURNINS\"].values, prob[:,1]))\n",
    "    \n",
    "    prob = clf.predict_proba(X[features].values)\n",
    "    aucsT.append(metrics.roc_auc_score(medical.iloc[X.index.values][\"UCURNINS\"].values, prob[:,1]))\n",
    "print(np.mean(aucsT))\n",
    "print(aucsT)\n",
    "print(np.mean(aucs))\n",
    "print(aucs)\n"
   ]
  },
  {
   "cell_type": "markdown",
   "metadata": {},
   "source": [
    "Now lets try the plynominal kernel with degree 2. We  can also try 3 to see if it will improve the fit."
   ]
  },
  {
   "cell_type": "code",
   "execution_count": 6,
   "metadata": {},
   "outputs": [
    {
     "name": "stdout",
     "output_type": "stream",
     "text": [
      "0.8621888169762506\n",
      "[0.8672238178906488, 0.8676055914560422, 0.8586787398543518, 0.8527491658203975, 0.8646867698598131]\n",
      "0.7715375353514207\n",
      "[0.7742268218856605, 0.7757323774727395, 0.7703785519844009, 0.7750998361803462, 0.7622500892339564]\n"
     ]
    }
   ],
   "source": [
    "limit = 2000\n",
    "kf = KFold(n_splits=5)\n",
    "aucs = []\n",
    "aucsT = []\n",
    "clf = SVC(C=1, cache_size=500, degree=2,kernel='poly',\n",
    "    max_iter=-1, probability=True,\n",
    "    tol=0.001, verbose=False)\n",
    "\n",
    "for train, test in kf.split(medical2.index.values):\n",
    "    X = medical2.iloc[train].sample(limit)\n",
    "    clf.fit(X[features].values, medical.iloc[X.index.values][\"UCURNINS\"].values)\n",
    "    prob = clf.predict_proba(medical2.iloc[test][features].values)\n",
    "    aucs.append(metrics.roc_auc_score(medical.iloc[test][\"UCURNINS\"].values, prob[:,1]))\n",
    "    \n",
    "    prob = clf.predict_proba(X[features].values)\n",
    "    aucsT.append(metrics.roc_auc_score(medical.iloc[X.index.values][\"UCURNINS\"].values, prob[:,1]))\n",
    "print(np.mean(aucsT))\n",
    "print(aucsT)\n",
    "print(np.mean(aucs))\n",
    "print(aucs)\n"
   ]
  },
  {
   "cell_type": "markdown",
   "metadata": {},
   "source": [
    "Lastly lets run the RBF kernel."
   ]
  },
  {
   "cell_type": "code",
   "execution_count": 7,
   "metadata": {},
   "outputs": [
    {
     "name": "stdout",
     "output_type": "stream",
     "text": [
      "0.892485432619195\n",
      "[0.9149015967867312, 0.8877266653941592, 0.8813887476940825, 0.9002149525757108, 0.8781952006452913]\n",
      "0.7936699529796256\n",
      "[0.7903880112128132, 0.8097370989851346, 0.786969427465028, 0.7840635619629055, 0.7971916652722468]\n"
     ]
    }
   ],
   "source": [
    "limit = 2000\n",
    "kf = KFold(n_splits=5)\n",
    "aucs = []\n",
    "aucsT = []\n",
    "clf = SVC(C=1, cache_size=500, degree=3,kernel='rbf',\n",
    "    max_iter=-1, probability=True,\n",
    "    tol=0.001, verbose=False)\n",
    "\n",
    "for train, test in kf.split(medical2.index.values):\n",
    "    X = medical2.iloc[train].sample(limit)\n",
    "    clf.fit(X[features].values, medical.iloc[X.index.values][\"UCURNINS\"].values)\n",
    "    prob = clf.predict_proba(medical2.iloc[test][features].values)\n",
    "    aucs.append(metrics.roc_auc_score(medical.iloc[test][\"UCURNINS\"].values, prob[:,1]))\n",
    "    \n",
    "    prob = clf.predict_proba(X[features].values)\n",
    "    aucsT.append(metrics.roc_auc_score(medical.iloc[X.index.values][\"UCURNINS\"].values, prob[:,1]))\n",
    "print(np.mean(aucsT))\n",
    "print(aucsT)\n",
    "print(np.mean(aucs))\n",
    "print(aucs)\n"
   ]
  },
  {
   "cell_type": "markdown",
   "metadata": {},
   "source": [
    "RBF seem to get the best results. Lets see hwo the value of C will affect the result."
   ]
  },
  {
   "cell_type": "code",
   "execution_count": 8,
   "metadata": {},
   "outputs": [
    {
     "name": "stdout",
     "output_type": "stream",
     "text": [
      "0.01\n",
      "0.87470896908342\n",
      "[0.8724630926967136, 0.8531919654914307, 0.8827827566718215, 0.8861050920910076, 0.8790019384661265]\n",
      "0.7996729445880786\n",
      "[0.8047608511533516, 0.8019998799215308, 0.7857711975692048, 0.7978730897315369, 0.807959704564769]\n",
      "0.1\n",
      "0.8916853956489345\n",
      "[0.8927589635608586, 0.8866315388110073, 0.8977864583333333, 0.8942257352759201, 0.8870242822635526]\n",
      "0.7901958696199994\n",
      "[0.7934978620814315, 0.7732851883882771, 0.7940426724232366, 0.7975422502699347, 0.7926113749371175]\n",
      "0.25\n",
      "0.8945386766927556\n",
      "[0.8884029726465619, 0.8969021895403152, 0.8763922991071429, 0.9010895812966352, 0.9099063408731228]\n",
      "0.7933477967773537\n",
      "[0.7898496776950984, 0.8087246958236978, 0.784759022369012, 0.79144642730246, 0.7919591606965005]\n",
      "0.5\n",
      "0.898322700187675\n",
      "[0.9004563693557575, 0.8925176131058483, 0.8847237699609678, 0.9128429956455435, 0.9010727528702585]\n",
      "0.7955215579649171\n",
      "[0.8014580798087751, 0.811934939731402, 0.7759643007766714, 0.7954366586751708, 0.7928138108325657]\n",
      "1\n",
      "0.9035716615178895\n",
      "[0.8986968123075932, 0.9110050206923103, 0.901707545314462, 0.9089707134585876, 0.8974782158164948]\n",
      "0.7906747360542777\n",
      "[0.8076308549437516, 0.8036201803335753, 0.7635375758596514, 0.7739756251791263, 0.8046094439552838]\n",
      "2\n",
      "0.9039713096166329\n",
      "[0.9062318425822341, 0.900659407138536, 0.9040414943085352, 0.9109066388611216, 0.8980171651927378]\n",
      "0.7856687595233793\n",
      "[0.7686588029469603, 0.774324997099228, 0.797690251623999, 0.7970490500483709, 0.7906206958983386]\n",
      "5\n",
      "0.9293790271231263\n",
      "[0.9179381887998918, 0.9258745450652965, 0.9358989310009718, 0.9354385964912281, 0.9317448742582431]\n",
      "0.7848524446570027\n",
      "[0.7911698189857325, 0.7754121120048787, 0.7816898901267431, 0.775238823265685, 0.8007515789019742]\n",
      "10\n",
      "0.9387641068150545\n",
      "[0.9257312832253645, 0.9375830102814765, 0.9557109455712033, 0.9372334457360366, 0.937561849261192]\n",
      "0.7644655022455236\n",
      "[0.7563950908577608, 0.7740999342941409, 0.771660309655263, 0.758914664596397, 0.7612575118240561]\n"
     ]
    }
   ],
   "source": [
    "for c in [0.01, 0.1, 0.25, 0.5, 1, 2, 5, 10]:\n",
    "    print(c)\n",
    "    limit = 2000\n",
    "    kf = KFold(n_splits=5)\n",
    "    aucs = []\n",
    "    aucsT = []\n",
    "    clf = SVC(C=c, cache_size=500, degree=3,kernel='rbf',\n",
    "        max_iter=-1, probability=True,\n",
    "        tol=0.01, verbose=False)\n",
    "\n",
    "    for train, test in kf.split(medical2.index.values):\n",
    "        X = medical2.iloc[train].sample(limit)\n",
    "        clf.fit(X[features].values, medical.iloc[X.index.values][\"UCURNINS\"].values)\n",
    "        prob = clf.predict_proba(medical2.iloc[test][features].values)\n",
    "        aucs.append(metrics.roc_auc_score(medical.iloc[test][\"UCURNINS\"].values, prob[:,1]))\n",
    "\n",
    "        prob = clf.predict_proba(X[features].values)\n",
    "        aucsT.append(metrics.roc_auc_score(medical.iloc[X.index.values][\"UCURNINS\"].values, prob[:,1]))\n",
    "    print(np.mean(aucsT))\n",
    "    print(aucsT)\n",
    "    print(np.mean(aucs))\n",
    "    print(aucs)\n"
   ]
  },
  {
   "cell_type": "code",
   "execution_count": null,
   "metadata": {
    "collapsed": true
   },
   "outputs": [],
   "source": []
  },
  {
   "cell_type": "markdown",
   "metadata": {
    "collapsed": true
   },
   "source": [
    "## Exercises 7\n",
    "### Exercise 7.1\n",
    "\n",
    "Using 5-Fold CV apply the SVM method to predict the value of the variable ‘survived’. \n",
    "* Check the results for linear, polynominal (degree 2) and RBF kernels.\n",
    "* Check how the standarization of variables affects the results.\n",
    "* Check how pronounced the problem of overfitting is and if you can reduce it by reduction of the number of variables.\n",
    "\n",
    "\n",
    "### Exercise 7.2\n",
    "For best type of kernel find optimal values of C.\n",
    "\n",
    "### Exercise 7.3\n",
    "Try to optimize your models by selection of the best variables and optimal standarization. "
   ]
  },
  {
   "cell_type": "markdown",
   "metadata": {},
   "source": [
    "## Appendix"
   ]
  },
  {
   "cell_type": "code",
   "execution_count": 9,
   "metadata": {},
   "outputs": [
    {
     "data": {
      "image/png": "[encoded data removed]",
      "text/plain": [
       "<matplotlib.figure.Figure at 0x7f77f9a47710>"
      ]
     },
     "metadata": {},
     "output_type": "display_data"
    }
   ],
   "source": [
    "from sklearn.datasets.samples_generator import make_blobs\n",
    "from sklearn.svm import SVC\n",
    "import numpy as np\n",
    "import matplotlib.pyplot as plt\n",
    "plt.style.use('seaborn-ticks')\n",
    "%matplotlib inline\n",
    "# Example from: https://jakevdp.github.io/PythonDataScienceHandbook/05.07-support-vector-machines.html\n",
    "def plot_svc_decision_function(model, ax=None, plot_support=True):\n",
    "    \"\"\"Plot the decision function for a 2D SVC\"\"\"\n",
    "    if ax is None:\n",
    "        ax = plt.gca()\n",
    "    xlim = ax.get_xlim()\n",
    "    ylim = ax.get_ylim()\n",
    "    \n",
    "    # create grid to evaluate model\n",
    "    x = np.linspace(xlim[0], xlim[1], 30)\n",
    "    y = np.linspace(ylim[0], ylim[1], 30)\n",
    "    Y, X = np.meshgrid(y, x)\n",
    "    xy = np.vstack([X.ravel(), Y.ravel()]).T\n",
    "    P = model.decision_function(xy).reshape(X.shape)\n",
    "    \n",
    "    # plot decision boundary and margins\n",
    "    ax.contour(X, Y, P, colors='k',\n",
    "               levels=[-1, 0, 1], alpha=0.5,\n",
    "               linestyles=['--', '-', '--'])\n",
    "    \n",
    "    # plot support vectors\n",
    "    if plot_support:\n",
    "        ax.scatter(model.support_vectors_[:, 0],\n",
    "                   model.support_vectors_[:, 1],\n",
    "                   s=300, linewidth=1, facecolors='none');\n",
    "    ax.set_xlim(xlim)\n",
    "    ax.set_ylim(ylim)\n",
    "\n",
    "\n",
    "X, y = make_blobs(n_samples=200, centers=2,\n",
    "                  random_state=0, cluster_std=1)\n",
    "\n",
    "fig, ax = plt.subplots(1, 2, figsize=(16, 6))\n",
    "fig.subplots_adjust(left=0.0625, right=0.95, wspace=0.1)\n",
    "\n",
    "for axi, C in zip(ax, [10.0, 0.1]):\n",
    "    model = SVC(kernel='linear', C=C).fit(X, y)\n",
    "    axi.scatter(X[:, 0], X[:, 1], c=y, s=50, cmap='autumn')\n",
    "    plot_svc_decision_function(model, axi)\n",
    "    axi.scatter(model.support_vectors_[:, 0],\n",
    "                model.support_vectors_[:, 1],\n",
    "                s=300, lw=1, facecolors='none');\n",
    "    axi.set_title('C = {0:.1f}'.format(C), size=14)"
   ]
  },
  {
   "cell_type": "code",
   "execution_count": null,
   "metadata": {
    "collapsed": true
   },
   "outputs": [],
   "source": []
  },
  {
   "cell_type": "code",
   "execution_count": null,
   "metadata": {
    "collapsed": true
   },
   "outputs": [],
   "source": []
  }
 ],
 "metadata": {
  "kernelspec": {
   "display_name": "Python 3",
   "language": "python",
   "name": "python3"
  },
  "language_info": {
   "codemirror_mode": {
    "name": "ipython",
    "version": 3
   },
   "file_extension": ".py",
   "mimetype": "text/x-python",
   "name": "python",
   "nbconvert_exporter": "python",
   "pygments_lexer": "ipython3",
   "version": "3.6.3"
  }
 },
 "nbformat": 4,
 "nbformat_minor": 2
}
