{
 "cells": [
  {
   "cell_type": "code",
   "execution_count": 1,
   "metadata": {},
   "outputs": [],
   "source": [
    "import pandas as pd\n",
    "%matplotlib inline"
   ]
  },
  {
   "cell_type": "markdown",
   "metadata": {},
   "source": [
    "Lets import medical_care data:"
   ]
  },
  {
   "cell_type": "code",
   "execution_count": 2,
   "metadata": {},
   "outputs": [
    {
     "name": "stdout",
     "output_type": "stream",
     "text": [
      "(35072, 29)\n"
     ]
    }
   ],
   "source": [
    "medical = pd.read_csv(\"data/medical_care.csv\")\n",
    "print(medical.shape)"
   ]
  },
  {
   "cell_type": "markdown",
   "metadata": {},
   "source": [
    "The file includes socio-demographic data, including health insurance and various aspects of health care touchpoints for the respondent group of a survey conducted in the USA.\n",
    "\n",
    "The collection includes 35072 observations and 27 variables:\n",
    " \n",
    "* UMARSTAT – Marital status recode\n",
    "* UCUREMP – Currently has employer coverage\n",
    "* UCURNINS – Currently uninsured\n",
    "* USATMED – Satisfied with quality of medical care\n",
    "* URELATE – Number of relatives in household\n",
    "* REGION – region\n",
    "* STATE - state\n",
    "* HHID – Household identification number\n",
    "* FHOSP – In hospital overnight last year\n",
    "* FDENT – Dental visits last year\n",
    "* FEMER – Number of emergency room visits last year\n",
    "* FDOCT – Number of doctor visits last year\n",
    "* UIMMSTAT – Immigration status\n",
    "* U_USBORN – U.S.- or foreign-born\n",
    "* UAGE – Age topcoded\n",
    "* U_FTPT – Full-time or part-time worker this year\n",
    "* U_WKSLY – Weeks worked last year\n",
    "* U_HRSLY – Hours worked per week last year\n",
    "* U_USHRS – Hours worked per week this year\n",
    "* HEARNVAL – Earnings amount last year - Household\n",
    "* HOTHVAL – Household income, total exc. earnings\n",
    "* HRETVAL – Retirement amount – Household\n",
    "* HSSVAL – Social Security amount - Household\n",
    "* HWSVAL – Wages and salaries amount – Household\n",
    "* UBRACE – race\n",
    "* GENDER – gender\n",
    "* UEDUC3 – education level\n",
    "* CEYES - color of eyes\n",
    "* CHAIR - color of hair"
   ]
  },
  {
   "cell_type": "markdown",
   "metadata": {},
   "source": [
    "Lets see how the datasets looks like:"
   ]
  },
  {
   "cell_type": "code",
   "execution_count": 3,
   "metadata": {},
   "outputs": [
    {
     "data": {
      "text/html": [
       "<div>\n",
       "<style>\n",
       "    .dataframe thead tr:only-child th {\n",
       "        text-align: right;\n",
       "    }\n",
       "\n",
       "    .dataframe thead th {\n",
       "        text-align: left;\n",
       "    }\n",
       "\n",
       "    .dataframe tbody tr th {\n",
       "        vertical-align: top;\n",
       "    }\n",
       "</style>\n",
       "<table border=\"1\" class=\"dataframe\">\n",
       "  <thead>\n",
       "    <tr style=\"text-align: right;\">\n",
       "      <th></th>\n",
       "      <th>UMARSTAT</th>\n",
       "      <th>UCUREMP</th>\n",
       "      <th>UCURNINS</th>\n",
       "      <th>USATMED</th>\n",
       "      <th>URELATE</th>\n",
       "      <th>REGION</th>\n",
       "      <th>STATE</th>\n",
       "      <th>HHID</th>\n",
       "      <th>FHOSP</th>\n",
       "      <th>FDENT</th>\n",
       "      <th>FEMER</th>\n",
       "      <th>FDOCT</th>\n",
       "      <th>UIMMSTAT</th>\n",
       "      <th>U_USBORN</th>\n",
       "      <th>UAGE</th>\n",
       "      <th>U_FTPT</th>\n",
       "      <th>U_WKSLY</th>\n",
       "      <th>U_HRSLY</th>\n",
       "      <th>U_USHRS</th>\n",
       "      <th>HEARNVAL</th>\n",
       "      <th>HOTHVAL</th>\n",
       "      <th>HRETVAL</th>\n",
       "      <th>HSSVAL</th>\n",
       "      <th>HWSVAL</th>\n",
       "      <th>UBRACE</th>\n",
       "      <th>GENDER</th>\n",
       "      <th>UEDUC3</th>\n",
       "      <th>CEYES</th>\n",
       "      <th>CHAIR</th>\n",
       "    </tr>\n",
       "  </thead>\n",
       "  <tbody>\n",
       "    <tr>\n",
       "      <th>0</th>\n",
       "      <td>Never married</td>\n",
       "      <td>No</td>\n",
       "      <td>Yes</td>\n",
       "      <td>Very satisfied</td>\n",
       "      <td>2</td>\n",
       "      <td>Midwest</td>\n",
       "      <td>WI</td>\n",
       "      <td>55616128</td>\n",
       "      <td>No</td>\n",
       "      <td>0</td>\n",
       "      <td>0</td>\n",
       "      <td>0</td>\n",
       "      <td>US-born citizen</td>\n",
       "      <td>Yes</td>\n",
       "      <td>22</td>\n",
       "      <td>Full-time</td>\n",
       "      <td>52.0</td>\n",
       "      <td>40</td>\n",
       "      <td>40</td>\n",
       "      <td>0</td>\n",
       "      <td>0</td>\n",
       "      <td>0</td>\n",
       "      <td>0</td>\n",
       "      <td>0</td>\n",
       "      <td>White</td>\n",
       "      <td>Female</td>\n",
       "      <td>No HS diploma or GED</td>\n",
       "      <td>hazel</td>\n",
       "      <td>brown</td>\n",
       "    </tr>\n",
       "    <tr>\n",
       "      <th>1</th>\n",
       "      <td>Separated</td>\n",
       "      <td>Yes</td>\n",
       "      <td>No</td>\n",
       "      <td>Very satisfied</td>\n",
       "      <td>2</td>\n",
       "      <td>Midwest</td>\n",
       "      <td>WI</td>\n",
       "      <td>54704000</td>\n",
       "      <td>No</td>\n",
       "      <td>2</td>\n",
       "      <td>0</td>\n",
       "      <td>0</td>\n",
       "      <td>US-born citizen</td>\n",
       "      <td>Yes</td>\n",
       "      <td>30</td>\n",
       "      <td>Full-time</td>\n",
       "      <td>52.0</td>\n",
       "      <td>40</td>\n",
       "      <td>40</td>\n",
       "      <td>31468</td>\n",
       "      <td>5950</td>\n",
       "      <td>0</td>\n",
       "      <td>0</td>\n",
       "      <td>31468</td>\n",
       "      <td>White</td>\n",
       "      <td>Female</td>\n",
       "      <td>HS diploma or GED, no bachelor's degree</td>\n",
       "      <td>blue</td>\n",
       "      <td>black</td>\n",
       "    </tr>\n",
       "    <tr>\n",
       "      <th>2</th>\n",
       "      <td>Married_live together</td>\n",
       "      <td>No</td>\n",
       "      <td>No</td>\n",
       "      <td>Very satisfied</td>\n",
       "      <td>5</td>\n",
       "      <td>Midwest</td>\n",
       "      <td>WI</td>\n",
       "      <td>57874272</td>\n",
       "      <td>No</td>\n",
       "      <td>0</td>\n",
       "      <td>1</td>\n",
       "      <td>0</td>\n",
       "      <td>US-born citizen</td>\n",
       "      <td>Yes</td>\n",
       "      <td>33</td>\n",
       "      <td>Part-time</td>\n",
       "      <td>52.0</td>\n",
       "      <td>30</td>\n",
       "      <td>30</td>\n",
       "      <td>24700</td>\n",
       "      <td>11340</td>\n",
       "      <td>0</td>\n",
       "      <td>4920</td>\n",
       "      <td>24700</td>\n",
       "      <td>White</td>\n",
       "      <td>Male</td>\n",
       "      <td>No HS diploma or GED</td>\n",
       "      <td>brown</td>\n",
       "      <td>brown</td>\n",
       "    </tr>\n",
       "    <tr>\n",
       "      <th>3</th>\n",
       "      <td>Divorced</td>\n",
       "      <td>No</td>\n",
       "      <td>Yes</td>\n",
       "      <td>Little dissatisfied</td>\n",
       "      <td>4</td>\n",
       "      <td>Midwest</td>\n",
       "      <td>WI</td>\n",
       "      <td>54106816</td>\n",
       "      <td>No</td>\n",
       "      <td>0</td>\n",
       "      <td>0</td>\n",
       "      <td>1</td>\n",
       "      <td>US-born citizen</td>\n",
       "      <td>Yes</td>\n",
       "      <td>41</td>\n",
       "      <td>Part-time</td>\n",
       "      <td>43.0</td>\n",
       "      <td>40</td>\n",
       "      <td>25</td>\n",
       "      <td>60000</td>\n",
       "      <td>39002</td>\n",
       "      <td>0</td>\n",
       "      <td>0</td>\n",
       "      <td>60000</td>\n",
       "      <td>Black</td>\n",
       "      <td>Female</td>\n",
       "      <td>No HS diploma or GED</td>\n",
       "      <td>brown</td>\n",
       "      <td>black</td>\n",
       "    </tr>\n",
       "    <tr>\n",
       "      <th>4</th>\n",
       "      <td>Never married</td>\n",
       "      <td>Yes</td>\n",
       "      <td>No</td>\n",
       "      <td>Very satisfied</td>\n",
       "      <td>0</td>\n",
       "      <td>Midwest</td>\n",
       "      <td>WI</td>\n",
       "      <td>54569152</td>\n",
       "      <td>No</td>\n",
       "      <td>2</td>\n",
       "      <td>0</td>\n",
       "      <td>0</td>\n",
       "      <td>US-born citizen</td>\n",
       "      <td>Yes</td>\n",
       "      <td>34</td>\n",
       "      <td>Full-time</td>\n",
       "      <td>52.0</td>\n",
       "      <td>40</td>\n",
       "      <td>40</td>\n",
       "      <td>55280</td>\n",
       "      <td>4200</td>\n",
       "      <td>0</td>\n",
       "      <td>0</td>\n",
       "      <td>55280</td>\n",
       "      <td>Black</td>\n",
       "      <td>Male</td>\n",
       "      <td>HS diploma or GED, no bachelor's degree</td>\n",
       "      <td>brown</td>\n",
       "      <td>black</td>\n",
       "    </tr>\n",
       "  </tbody>\n",
       "</table>\n",
       "</div>"
      ],
      "text/plain": [
       "                UMARSTAT UCUREMP UCURNINS              USATMED  URELATE  \\\n",
       "0          Never married      No      Yes       Very satisfied        2   \n",
       "1              Separated     Yes       No       Very satisfied        2   \n",
       "2  Married_live together      No       No       Very satisfied        5   \n",
       "3               Divorced      No      Yes  Little dissatisfied        4   \n",
       "4          Never married     Yes       No       Very satisfied        0   \n",
       "\n",
       "    REGION STATE      HHID FHOSP  FDENT  FEMER  FDOCT         UIMMSTAT  \\\n",
       "0  Midwest    WI  55616128    No      0      0      0  US-born citizen   \n",
       "1  Midwest    WI  54704000    No      2      0      0  US-born citizen   \n",
       "2  Midwest    WI  57874272    No      0      1      0  US-born citizen   \n",
       "3  Midwest    WI  54106816    No      0      0      1  US-born citizen   \n",
       "4  Midwest    WI  54569152    No      2      0      0  US-born citizen   \n",
       "\n",
       "  U_USBORN  UAGE     U_FTPT  U_WKSLY  U_HRSLY  U_USHRS  HEARNVAL  HOTHVAL  \\\n",
       "0      Yes    22  Full-time     52.0       40       40         0        0   \n",
       "1      Yes    30  Full-time     52.0       40       40     31468     5950   \n",
       "2      Yes    33  Part-time     52.0       30       30     24700    11340   \n",
       "3      Yes    41  Part-time     43.0       40       25     60000    39002   \n",
       "4      Yes    34  Full-time     52.0       40       40     55280     4200   \n",
       "\n",
       "   HRETVAL  HSSVAL  HWSVAL UBRACE  GENDER  \\\n",
       "0        0       0       0  White  Female   \n",
       "1        0       0   31468  White  Female   \n",
       "2        0    4920   24700  White    Male   \n",
       "3        0       0   60000  Black  Female   \n",
       "4        0       0   55280  Black    Male   \n",
       "\n",
       "                                    UEDUC3  CEYES  CHAIR  \n",
       "0                     No HS diploma or GED  hazel  brown  \n",
       "1  HS diploma or GED, no bachelor's degree   blue  black  \n",
       "2                     No HS diploma or GED  brown  brown  \n",
       "3                     No HS diploma or GED  brown  black  \n",
       "4  HS diploma or GED, no bachelor's degree  brown  black  "
      ]
     },
     "execution_count": 3,
     "metadata": {},
     "output_type": "execute_result"
    }
   ],
   "source": [
    "# Increade max number of columns to display for this dataset.\n",
    "pd.set_option(\"display.max_columns\",50)\n",
    "medical.head()"
   ]
  },
  {
   "cell_type": "markdown",
   "metadata": {},
   "source": [
    "Lets see what are datatypes for all the variables.\n",
    "\n",
    "It looks as if we made one mistake. HHID is an identification number. Therefore we should import is as a string and not as an int. Importing IDs as ints can be risky as leading zeros get trancuated at reading. All other qualitative variables are already typed as object."
   ]
  },
  {
   "cell_type": "code",
   "execution_count": 4,
   "metadata": {},
   "outputs": [
    {
     "data": {
      "text/plain": [
       "UMARSTAT     object\n",
       "UCUREMP      object\n",
       "UCURNINS     object\n",
       "USATMED      object\n",
       "URELATE       int64\n",
       "REGION       object\n",
       "STATE        object\n",
       "HHID          int64\n",
       "FHOSP        object\n",
       "FDENT         int64\n",
       "FEMER         int64\n",
       "FDOCT         int64\n",
       "UIMMSTAT     object\n",
       "U_USBORN     object\n",
       "UAGE          int64\n",
       "U_FTPT       object\n",
       "U_WKSLY     float64\n",
       "U_HRSLY       int64\n",
       "U_USHRS       int64\n",
       "HEARNVAL      int64\n",
       "HOTHVAL       int64\n",
       "HRETVAL       int64\n",
       "HSSVAL        int64\n",
       "HWSVAL        int64\n",
       "UBRACE       object\n",
       "GENDER       object\n",
       "UEDUC3       object\n",
       "CEYES        object\n",
       "CHAIR        object\n",
       "dtype: object"
      ]
     },
     "execution_count": 4,
     "metadata": {},
     "output_type": "execute_result"
    }
   ],
   "source": [
    "medical.dtypes"
   ]
  },
  {
   "cell_type": "markdown",
   "metadata": {},
   "source": [
    "Reloading medical dataset with predefined set for HHID as str."
   ]
  },
  {
   "cell_type": "code",
   "execution_count": 5,
   "metadata": {},
   "outputs": [
    {
     "data": {
      "text/plain": [
       "UMARSTAT     object\n",
       "UCUREMP      object\n",
       "UCURNINS     object\n",
       "USATMED      object\n",
       "URELATE       int64\n",
       "REGION       object\n",
       "STATE        object\n",
       "HHID         object\n",
       "FHOSP        object\n",
       "FDENT         int64\n",
       "FEMER         int64\n",
       "FDOCT         int64\n",
       "UIMMSTAT     object\n",
       "U_USBORN     object\n",
       "UAGE          int64\n",
       "U_FTPT       object\n",
       "U_WKSLY     float64\n",
       "U_HRSLY       int64\n",
       "U_USHRS       int64\n",
       "HEARNVAL      int64\n",
       "HOTHVAL       int64\n",
       "HRETVAL       int64\n",
       "HSSVAL        int64\n",
       "HWSVAL        int64\n",
       "UBRACE       object\n",
       "GENDER       object\n",
       "UEDUC3       object\n",
       "CEYES        object\n",
       "CHAIR        object\n",
       "dtype: object"
      ]
     },
     "execution_count": 5,
     "metadata": {},
     "output_type": "execute_result"
    }
   ],
   "source": [
    "medical = pd.read_csv(\"data/medical_care.csv\", dtype={\"HHID\":str})\n",
    "medical.dtypes"
   ]
  },
  {
   "cell_type": "markdown",
   "metadata": {},
   "source": [
    "Some variables are not numeric but qualitative. in some cases they are nominal (for example REGION) and in other ordinal (USATMED). Depending on the library and algorithm we may need to transform those variables.\n",
    "\n",
    "We may need to:\n",
    "* create ordered numerical labels\n",
    "* unordered numerical labels\n",
    "* do one hot encoding (binarization)\n",
    "\n",
    "There are many ways to do all abovementioned actions. Lets see some examples starting with USATMED. We see that there are 5 unique levels. We can create a dictionary to map the variable."
   ]
  },
  {
   "cell_type": "code",
   "execution_count": 4,
   "metadata": {},
   "outputs": [
    {
     "name": "stdout",
     "output_type": "stream",
     "text": [
      "['Very satisfied' 'Little dissatisfied' 'Little satisfied' 'No opinion'\n",
      " 'Very dissatisfied']\n",
      "Very satisfied         18002\n",
      "Little satisfied       12636\n",
      "Little dissatisfied     2470\n",
      "Very dissatisfied       1091\n",
      "No opinion               873\n",
      "Name: USATMED, dtype: int64\n"
     ]
    }
   ],
   "source": [
    "print(medical.USATMED.unique())\n",
    "print(medical.USATMED.value_counts())"
   ]
  },
  {
   "cell_type": "code",
   "execution_count": 7,
   "metadata": {
    "collapsed": true
   },
   "outputs": [],
   "source": [
    "satDict = {'Very satisfied':4,  'Little satisfied':3,\n",
    "       'No opinion':2,'Little dissatisfied':1, 'Very dissatisfied':0}"
   ]
  },
  {
   "cell_type": "code",
   "execution_count": 8,
   "metadata": {},
   "outputs": [
    {
     "name": "stdout",
     "output_type": "stream",
     "text": [
      "[4 1 3 2 0]\n",
      "4    18002\n",
      "3    12636\n",
      "1     2470\n",
      "0     1091\n",
      "2      873\n",
      "Name: USATMED, dtype: int64\n"
     ]
    }
   ],
   "source": [
    "medical[\"USATMED\"]=medical.USATMED.map(satDict)\n",
    "print(medical.USATMED.unique())\n",
    "print(medical.USATMED.value_counts())"
   ]
  },
  {
   "cell_type": "markdown",
   "metadata": {},
   "source": [
    "Lets do the same with education"
   ]
  },
  {
   "cell_type": "code",
   "execution_count": 9,
   "metadata": {},
   "outputs": [
    {
     "name": "stdout",
     "output_type": "stream",
     "text": [
      "['No HS diploma or GED' \"HS diploma or GED, no bachelor's degree\"\n",
      " \"Bachelor's degree and higher\"]\n",
      "HS diploma or GED, no bachelor's degree    20896\n",
      "Bachelor's degree and higher               10322\n",
      "No HS diploma or GED                        3854\n",
      "Name: UEDUC3, dtype: int64\n",
      "[0 1 2]\n",
      "1    20896\n",
      "2    10322\n",
      "0     3854\n",
      "Name: UEDUC3, dtype: int64\n"
     ]
    }
   ],
   "source": [
    "print(medical.UEDUC3.unique())\n",
    "print(medical.UEDUC3.value_counts())\n",
    "eduDict = {'No HS diploma or GED':0, \"HS diploma or GED, no bachelor's degree\":1,\n",
    " \"Bachelor's degree and higher\":2}\n",
    "medical[\"UEDUC3\"]=medical.UEDUC3.map(eduDict)\n",
    "print(medical.UEDUC3.unique())\n",
    "print(medical.UEDUC3.value_counts())"
   ]
  },
  {
   "cell_type": "markdown",
   "metadata": {},
   "source": [
    "Lets change the type of the U_WKSLY to int."
   ]
  },
  {
   "cell_type": "code",
   "execution_count": 10,
   "metadata": {
    "collapsed": true
   },
   "outputs": [],
   "source": [
    "medical[\"U_WKSLY\"]=medical[\"U_WKSLY\"].astype(int)"
   ]
  },
  {
   "cell_type": "markdown",
   "metadata": {},
   "source": [
    "Lets look at our data set. It look as if there are errors in HEARNVAL and HOTHVAL as we should not be seing negative values there."
   ]
  },
  {
   "cell_type": "code",
   "execution_count": 11,
   "metadata": {},
   "outputs": [
    {
     "data": {
      "text/html": [
       "<div>\n",
       "<style scoped>\n",
       "    .dataframe tbody tr th:only-of-type {\n",
       "        vertical-align: middle;\n",
       "    }\n",
       "\n",
       "    .dataframe tbody tr th {\n",
       "        vertical-align: top;\n",
       "    }\n",
       "\n",
       "    .dataframe thead th {\n",
       "        text-align: right;\n",
       "    }\n",
       "</style>\n",
       "<table border=\"1\" class=\"dataframe\">\n",
       "  <thead>\n",
       "    <tr style=\"text-align: right;\">\n",
       "      <th></th>\n",
       "      <th>USATMED</th>\n",
       "      <th>URELATE</th>\n",
       "      <th>FDENT</th>\n",
       "      <th>FEMER</th>\n",
       "      <th>FDOCT</th>\n",
       "      <th>UAGE</th>\n",
       "      <th>U_WKSLY</th>\n",
       "      <th>U_HRSLY</th>\n",
       "      <th>U_USHRS</th>\n",
       "      <th>HEARNVAL</th>\n",
       "      <th>HOTHVAL</th>\n",
       "      <th>HRETVAL</th>\n",
       "      <th>HSSVAL</th>\n",
       "      <th>HWSVAL</th>\n",
       "      <th>UEDUC3</th>\n",
       "    </tr>\n",
       "  </thead>\n",
       "  <tbody>\n",
       "    <tr>\n",
       "      <th>count</th>\n",
       "      <td>35072.000000</td>\n",
       "      <td>35072.000000</td>\n",
       "      <td>35072.000000</td>\n",
       "      <td>35072.000000</td>\n",
       "      <td>35072.000000</td>\n",
       "      <td>35072.000000</td>\n",
       "      <td>35072.000000</td>\n",
       "      <td>35072.000000</td>\n",
       "      <td>35072.000000</td>\n",
       "      <td>35072.000000</td>\n",
       "      <td>35072.000000</td>\n",
       "      <td>35072.000000</td>\n",
       "      <td>35072.000000</td>\n",
       "      <td>35072.000000</td>\n",
       "      <td>35072.000000</td>\n",
       "    </tr>\n",
       "    <tr>\n",
       "      <th>mean</th>\n",
       "      <td>3.254220</td>\n",
       "      <td>2.288692</td>\n",
       "      <td>1.567262</td>\n",
       "      <td>0.331261</td>\n",
       "      <td>2.461280</td>\n",
       "      <td>39.435618</td>\n",
       "      <td>47.099510</td>\n",
       "      <td>41.270301</td>\n",
       "      <td>41.634552</td>\n",
       "      <td>39688.031621</td>\n",
       "      <td>7504.163321</td>\n",
       "      <td>1352.392935</td>\n",
       "      <td>2321.060761</td>\n",
       "      <td>37134.580748</td>\n",
       "      <td>1.184421</td>\n",
       "    </tr>\n",
       "    <tr>\n",
       "      <th>std</th>\n",
       "      <td>1.017474</td>\n",
       "      <td>1.520769</td>\n",
       "      <td>1.508148</td>\n",
       "      <td>0.795926</td>\n",
       "      <td>3.666897</td>\n",
       "      <td>11.302693</td>\n",
       "      <td>9.844522</td>\n",
       "      <td>13.153918</td>\n",
       "      <td>13.295147</td>\n",
       "      <td>57282.357668</td>\n",
       "      <td>16661.686112</td>\n",
       "      <td>6666.099716</td>\n",
       "      <td>5722.053708</td>\n",
       "      <td>54558.125077</td>\n",
       "      <td>0.608438</td>\n",
       "    </tr>\n",
       "    <tr>\n",
       "      <th>min</th>\n",
       "      <td>0.000000</td>\n",
       "      <td>0.000000</td>\n",
       "      <td>0.000000</td>\n",
       "      <td>0.000000</td>\n",
       "      <td>0.000000</td>\n",
       "      <td>17.000000</td>\n",
       "      <td>2.000000</td>\n",
       "      <td>1.000000</td>\n",
       "      <td>1.000000</td>\n",
       "      <td>-19998.000000</td>\n",
       "      <td>-16902.000000</td>\n",
       "      <td>0.000000</td>\n",
       "      <td>0.000000</td>\n",
       "      <td>0.000000</td>\n",
       "      <td>0.000000</td>\n",
       "    </tr>\n",
       "    <tr>\n",
       "      <th>25%</th>\n",
       "      <td>3.000000</td>\n",
       "      <td>1.000000</td>\n",
       "      <td>0.000000</td>\n",
       "      <td>0.000000</td>\n",
       "      <td>0.000000</td>\n",
       "      <td>31.000000</td>\n",
       "      <td>48.000000</td>\n",
       "      <td>38.000000</td>\n",
       "      <td>39.000000</td>\n",
       "      <td>0.000000</td>\n",
       "      <td>0.000000</td>\n",
       "      <td>0.000000</td>\n",
       "      <td>0.000000</td>\n",
       "      <td>0.000000</td>\n",
       "      <td>1.000000</td>\n",
       "    </tr>\n",
       "    <tr>\n",
       "      <th>50%</th>\n",
       "      <td>4.000000</td>\n",
       "      <td>2.000000</td>\n",
       "      <td>1.000000</td>\n",
       "      <td>0.000000</td>\n",
       "      <td>1.000000</td>\n",
       "      <td>40.000000</td>\n",
       "      <td>52.000000</td>\n",
       "      <td>40.000000</td>\n",
       "      <td>40.000000</td>\n",
       "      <td>24000.000000</td>\n",
       "      <td>485.000000</td>\n",
       "      <td>0.000000</td>\n",
       "      <td>0.000000</td>\n",
       "      <td>21000.000000</td>\n",
       "      <td>1.000000</td>\n",
       "    </tr>\n",
       "    <tr>\n",
       "      <th>75%</th>\n",
       "      <td>4.000000</td>\n",
       "      <td>3.000000</td>\n",
       "      <td>2.000000</td>\n",
       "      <td>0.000000</td>\n",
       "      <td>3.000000</td>\n",
       "      <td>47.000000</td>\n",
       "      <td>52.000000</td>\n",
       "      <td>48.000000</td>\n",
       "      <td>50.000000</td>\n",
       "      <td>60000.000000</td>\n",
       "      <td>8424.000000</td>\n",
       "      <td>0.000000</td>\n",
       "      <td>0.000000</td>\n",
       "      <td>56000.000000</td>\n",
       "      <td>2.000000</td>\n",
       "    </tr>\n",
       "    <tr>\n",
       "      <th>max</th>\n",
       "      <td>4.000000</td>\n",
       "      <td>14.000000</td>\n",
       "      <td>8.000000</td>\n",
       "      <td>5.000000</td>\n",
       "      <td>25.000000</td>\n",
       "      <td>82.000000</td>\n",
       "      <td>52.000000</td>\n",
       "      <td>126.000000</td>\n",
       "      <td>126.000000</td>\n",
       "      <td>687064.000000</td>\n",
       "      <td>315335.000000</td>\n",
       "      <td>149402.000000</td>\n",
       "      <td>100000.000000</td>\n",
       "      <td>687064.000000</td>\n",
       "      <td>2.000000</td>\n",
       "    </tr>\n",
       "  </tbody>\n",
       "</table>\n",
       "</div>"
      ],
      "text/plain": [
       "            USATMED       URELATE         FDENT         FEMER         FDOCT  \\\n",
       "count  35072.000000  35072.000000  35072.000000  35072.000000  35072.000000   \n",
       "mean       3.254220      2.288692      1.567262      0.331261      2.461280   \n",
       "std        1.017474      1.520769      1.508148      0.795926      3.666897   \n",
       "min        0.000000      0.000000      0.000000      0.000000      0.000000   \n",
       "25%        3.000000      1.000000      0.000000      0.000000      0.000000   \n",
       "50%        4.000000      2.000000      1.000000      0.000000      1.000000   \n",
       "75%        4.000000      3.000000      2.000000      0.000000      3.000000   \n",
       "max        4.000000     14.000000      8.000000      5.000000     25.000000   \n",
       "\n",
       "               UAGE       U_WKSLY       U_HRSLY       U_USHRS       HEARNVAL  \\\n",
       "count  35072.000000  35072.000000  35072.000000  35072.000000   35072.000000   \n",
       "mean      39.435618     47.099510     41.270301     41.634552   39688.031621   \n",
       "std       11.302693      9.844522     13.153918     13.295147   57282.357668   \n",
       "min       17.000000      2.000000      1.000000      1.000000  -19998.000000   \n",
       "25%       31.000000     48.000000     38.000000     39.000000       0.000000   \n",
       "50%       40.000000     52.000000     40.000000     40.000000   24000.000000   \n",
       "75%       47.000000     52.000000     48.000000     50.000000   60000.000000   \n",
       "max       82.000000     52.000000    126.000000    126.000000  687064.000000   \n",
       "\n",
       "             HOTHVAL        HRETVAL         HSSVAL         HWSVAL  \\\n",
       "count   35072.000000   35072.000000   35072.000000   35072.000000   \n",
       "mean     7504.163321    1352.392935    2321.060761   37134.580748   \n",
       "std     16661.686112    6666.099716    5722.053708   54558.125077   \n",
       "min    -16902.000000       0.000000       0.000000       0.000000   \n",
       "25%         0.000000       0.000000       0.000000       0.000000   \n",
       "50%       485.000000       0.000000       0.000000   21000.000000   \n",
       "75%      8424.000000       0.000000       0.000000   56000.000000   \n",
       "max    315335.000000  149402.000000  100000.000000  687064.000000   \n",
       "\n",
       "             UEDUC3  \n",
       "count  35072.000000  \n",
       "mean       1.184421  \n",
       "std        0.608438  \n",
       "min        0.000000  \n",
       "25%        1.000000  \n",
       "50%        1.000000  \n",
       "75%        2.000000  \n",
       "max        2.000000  "
      ]
     },
     "execution_count": 11,
     "metadata": {},
     "output_type": "execute_result"
    }
   ],
   "source": [
    "medical.describe()"
   ]
  },
  {
   "cell_type": "markdown",
   "metadata": {},
   "source": [
    "Lets look closer at those variables."
   ]
  },
  {
   "cell_type": "code",
   "execution_count": 5,
   "metadata": {},
   "outputs": [
    {
     "name": "stdout",
     "output_type": "stream",
     "text": [
      "(64, 29)\n"
     ]
    },
    {
     "data": {
      "text/plain": [
       "<matplotlib.axes._subplots.AxesSubplot at 0x8aa4860>"
      ]
     },
     "execution_count": 5,
     "metadata": {},
     "output_type": "execute_result"
    },
    {
     "data": {
      "image/png": "[encoded data removed]",
      "text/plain": [
       "<matplotlib.figure.Figure at 0x8ab06a0>"
      ]
     },
     "metadata": {},
     "output_type": "display_data"
    }
   ],
   "source": [
    "print(medical.query(\"HEARNVAL<0\").shape)\n",
    "medical.HEARNVAL.hist(bins=100)"
   ]
  },
  {
   "cell_type": "code",
   "execution_count": 13,
   "metadata": {},
   "outputs": [
    {
     "name": "stdout",
     "output_type": "stream",
     "text": [
      "(180, 29)\n"
     ]
    },
    {
     "data": {
      "text/plain": [
       "<matplotlib.axes._subplots.AxesSubplot at 0x7f453c974a58>"
      ]
     },
     "execution_count": 13,
     "metadata": {},
     "output_type": "execute_result"
    },
    {
     "data": {
      "image/png": "[encoded data removed]",
      "text/plain": [
       "<matplotlib.figure.Figure at 0x7f453c7dec88>"
      ]
     },
     "metadata": {},
     "output_type": "display_data"
    }
   ],
   "source": [
    "print(medical.query(\"HOTHVAL<0\").shape)\n",
    "medical.HOTHVAL.hist(bins=100)"
   ]
  },
  {
   "cell_type": "markdown",
   "metadata": {},
   "source": [
    "It looks as if the problem is not profund. We can replace negative values with zero in these variables."
   ]
  },
  {
   "cell_type": "code",
   "execution_count": 14,
   "metadata": {
    "collapsed": true
   },
   "outputs": [],
   "source": [
    "medical.loc[medical.HEARNVAL<0, \"HEARNVAL\"]=0\n",
    "medical.loc[medical.HOTHVAL<0, \"HOTHVAL\"]=0"
   ]
  },
  {
   "cell_type": "markdown",
   "metadata": {},
   "source": [
    "Lets look ath the number of relatives in the house hold. It looks as if there are vew cases where the value is greater than 5. Lets change those outliers to our new max of 5."
   ]
  },
  {
   "cell_type": "code",
   "execution_count": 15,
   "metadata": {},
   "outputs": [
    {
     "data": {
      "text/plain": [
       "3     9084\n",
       "2     7700\n",
       "1     7399\n",
       "0     4291\n",
       "4     4194\n",
       "5     1561\n",
       "6      508\n",
       "7      193\n",
       "8       86\n",
       "9       30\n",
       "10      16\n",
       "11       6\n",
       "14       3\n",
       "12       1\n",
       "Name: URELATE, dtype: int64"
      ]
     },
     "execution_count": 15,
     "metadata": {},
     "output_type": "execute_result"
    }
   ],
   "source": [
    "medical.URELATE.value_counts()"
   ]
  },
  {
   "cell_type": "code",
   "execution_count": 16,
   "metadata": {},
   "outputs": [
    {
     "data": {
      "text/plain": [
       "3    9084\n",
       "2    7700\n",
       "1    7399\n",
       "0    4291\n",
       "4    4194\n",
       "5    2404\n",
       "Name: URELATE, dtype: int64"
      ]
     },
     "execution_count": 16,
     "metadata": {},
     "output_type": "execute_result"
    }
   ],
   "source": [
    "medical.loc[medical.URELATE>5, \"URELATE\"]=5\n",
    "medical.URELATE.value_counts()"
   ]
  },
  {
   "cell_type": "markdown",
   "metadata": {},
   "source": [
    "Finally we can save our data set in a binary format so that we save all the changes we have made and keep the information about the types."
   ]
  },
  {
   "cell_type": "code",
   "execution_count": 17,
   "metadata": {
    "collapsed": true
   },
   "outputs": [],
   "source": [
    "medical.to_pickle(\"data/medical.p\")"
   ]
  },
  {
   "cell_type": "markdown",
   "metadata": {},
   "source": [
    "### Exercise 1.1.\n",
    "import data from the 'titanic.csv' file and check its structure.\n",
    "* passenger_id – Unique passenger id\n",
    "* pclass – Ticket class (1 = 1st, 2 = 2nd, 3 = 3rd)\n",
    "* survived – Survival (0 = No, 1 = Yes)\n",
    "* name – Name and SUrname\n",
    "* sex – Sex (0 = Male, 1 = Female)\n",
    "* age – Age in years\n",
    "* sibsp – # of siblings / spouses aboard the Titanic\n",
    "* parch – # of parents / children aboard the Titanic\n",
    "* ticket – Ticket number\n",
    "* fare – Passenger fare\n",
    "* cabin – Cabin number\n",
    "* embarked – Port of Embarkation (C = Cherbourg, Q = Queenstown, S = Southampton)\n",
    "* boat – Lifeboat (if survived)\n",
    "* body – Body number (if did not survive and body was recovered)\n",
    "* home.dest – Home/Destination"
   ]
  },
  {
   "cell_type": "markdown",
   "metadata": {},
   "source": [
    "### Exercise 1.2\n",
    "In the titanic dataset convert columns with qualitative variables\n",
    "to factors (sex, embarked, survived) or ordered factor (pclass) -\n",
    "defining the appropriate levels and, if needed, order of values.\n",
    "Please code the levels as:\n",
    "- embarked respectively: Cherbourg, Queenstown, Southampton\n",
    "- sex - Female, Male\n",
    "- survived - Yes, No\n",
    "- pclass - 1st <2nd <3rd"
   ]
  },
  {
   "cell_type": "code",
   "execution_count": null,
   "metadata": {
    "collapsed": true
   },
   "outputs": [],
   "source": []
  },
  {
   "cell_type": "code",
   "execution_count": null,
   "metadata": {
    "collapsed": true
   },
   "outputs": [],
   "source": []
  }
 ],
 "metadata": {
  "kernelspec": {
   "display_name": "Python 3",
   "language": "python",
   "name": "python3"
  },
  "language_info": {
   "codemirror_mode": {
    "name": "ipython",
    "version": 3
   },
   "file_extension": ".py",
   "mimetype": "text/x-python",
   "name": "python",
   "nbconvert_exporter": "python",
   "pygments_lexer": "ipython3",
   "version": "3.6.2"
  }
 },
 "nbformat": 4,
 "nbformat_minor": 2
}
